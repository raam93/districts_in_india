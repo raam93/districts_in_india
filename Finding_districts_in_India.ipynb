{
 "cells": [
  {
   "cell_type": "code",
   "execution_count": 3,
   "metadata": {
    "collapsed": true
   },
   "outputs": [],
   "source": [
    "# import libraries\n",
    "import numpy as np\n",
    "import math\n",
    "import pandas as pd"
   ]
  },
  {
   "cell_type": "code",
   "execution_count": 1,
   "metadata": {},
   "outputs": [
    {
     "name": "stdout",
     "output_type": "stream",
     "text": [
      "Cloning into 'districts_in_india'...\n",
      "remote: Counting objects: 10, done.\u001b[K\n",
      "remote: Compressing objects: 100% (9/9), done.\u001b[K\n",
      "remote: Total 10 (delta 1), reused 0 (delta 0), pack-reused 0\u001b[K\n",
      "Unpacking objects: 100% (10/10), done.\n",
      "Checking connectivity... done.\n"
     ]
    }
   ],
   "source": [
    "# Cloning the repo. It has more information about the data.\n",
    "!git clone https://github.com/raam93/districts_in_india.git"
   ]
  },
  {
   "cell_type": "markdown",
   "metadata": {},
   "source": [
    "# Reading Data"
   ]
  },
  {
   "cell_type": "markdown",
   "metadata": {},
   "source": [
    "'datafile_old.csv' is the data file from https://data.gov.in/resources/district-wise-availability-health-centres-india-31st-march-2017 which contains information about district-wise availability of health centres in india as on 31st March, 2017"
   ]
  },
  {
   "cell_type": "code",
   "execution_count": 4,
   "metadata": {},
   "outputs": [
    {
     "data": {
      "text/html": [
       "<div>\n",
       "<style>\n",
       "    .dataframe thead tr:only-child th {\n",
       "        text-align: right;\n",
       "    }\n",
       "\n",
       "    .dataframe thead th {\n",
       "        text-align: left;\n",
       "    }\n",
       "\n",
       "    .dataframe tbody tr th {\n",
       "        vertical-align: top;\n",
       "    }\n",
       "</style>\n",
       "<table border=\"1\" class=\"dataframe\">\n",
       "  <thead>\n",
       "    <tr style=\"text-align: right;\">\n",
       "      <th></th>\n",
       "      <th>S No.</th>\n",
       "      <th>States/Union Territory</th>\n",
       "      <th>Name of the District</th>\n",
       "      <th>Sub Centres</th>\n",
       "      <th>PHCs</th>\n",
       "      <th>CHCs</th>\n",
       "      <th>Sub Divisional Hospital</th>\n",
       "      <th>District Hospital</th>\n",
       "    </tr>\n",
       "  </thead>\n",
       "  <tbody>\n",
       "    <tr>\n",
       "      <th>0</th>\n",
       "      <td>1</td>\n",
       "      <td>Andhra Pradesh</td>\n",
       "      <td>Srikakulam</td>\n",
       "      <td>465</td>\n",
       "      <td>80</td>\n",
       "      <td>16</td>\n",
       "      <td>2</td>\n",
       "      <td>0.0</td>\n",
       "    </tr>\n",
       "    <tr>\n",
       "      <th>1</th>\n",
       "      <td>1</td>\n",
       "      <td>Andhra Pradesh</td>\n",
       "      <td>Vizianagaram</td>\n",
       "      <td>431</td>\n",
       "      <td>68</td>\n",
       "      <td>11</td>\n",
       "      <td>1</td>\n",
       "      <td>1.0</td>\n",
       "    </tr>\n",
       "    <tr>\n",
       "      <th>2</th>\n",
       "      <td>1</td>\n",
       "      <td>Andhra Pradesh</td>\n",
       "      <td>Visakhapatnam</td>\n",
       "      <td>583</td>\n",
       "      <td>89</td>\n",
       "      <td>11</td>\n",
       "      <td>2</td>\n",
       "      <td>0.0</td>\n",
       "    </tr>\n",
       "    <tr>\n",
       "      <th>3</th>\n",
       "      <td>1</td>\n",
       "      <td>Andhra Pradesh</td>\n",
       "      <td>East Godavari</td>\n",
       "      <td>840</td>\n",
       "      <td>128</td>\n",
       "      <td>26</td>\n",
       "      <td>3</td>\n",
       "      <td>1.0</td>\n",
       "    </tr>\n",
       "    <tr>\n",
       "      <th>4</th>\n",
       "      <td>1</td>\n",
       "      <td>Andhra Pradesh</td>\n",
       "      <td>West Godavari</td>\n",
       "      <td>635</td>\n",
       "      <td>91</td>\n",
       "      <td>14</td>\n",
       "      <td>3</td>\n",
       "      <td>1.0</td>\n",
       "    </tr>\n",
       "  </tbody>\n",
       "</table>\n",
       "</div>"
      ],
      "text/plain": [
       "  S No. States/Union Territory Name of the District  Sub Centres  PHCs  CHCs  \\\n",
       "0     1         Andhra Pradesh           Srikakulam          465    80    16   \n",
       "1     1         Andhra Pradesh         Vizianagaram          431    68    11   \n",
       "2     1         Andhra Pradesh        Visakhapatnam          583    89    11   \n",
       "3     1         Andhra Pradesh        East Godavari          840   128    26   \n",
       "4     1         Andhra Pradesh        West Godavari          635    91    14   \n",
       "\n",
       "   Sub Divisional Hospital  District Hospital  \n",
       "0                        2                0.0  \n",
       "1                        1                1.0  \n",
       "2                        2                0.0  \n",
       "3                        3                1.0  \n",
       "4                        3                1.0  "
      ]
     },
     "execution_count": 4,
     "metadata": {},
     "output_type": "execute_result"
    }
   ],
   "source": [
    "dist_old = pd.read_csv('districts_in_india/datafile_old.csv', delimiter= \" \")\n",
    "dist_old.head()"
   ]
  },
  {
   "cell_type": "markdown",
   "metadata": {},
   "source": [
    "'datafile_new.csv' is the data file from https://www.askbankifsccode.com/blog/list-of-all-states-union-territories-and-districts-in-india/ which claims to have information about all districts and states as on March, 2018. The information in this file is also cross verified with the offficial data (could not find in tabular format) from Government of India web directory http://www.goidirectory.gov.in/district_categories1.php?ou=TN. "
   ]
  },
  {
   "cell_type": "code",
   "execution_count": 5,
   "metadata": {},
   "outputs": [
    {
     "data": {
      "text/html": [
       "<div>\n",
       "<style>\n",
       "    .dataframe thead tr:only-child th {\n",
       "        text-align: right;\n",
       "    }\n",
       "\n",
       "    .dataframe thead th {\n",
       "        text-align: left;\n",
       "    }\n",
       "\n",
       "    .dataframe tbody tr th {\n",
       "        vertical-align: top;\n",
       "    }\n",
       "</style>\n",
       "<table border=\"1\" class=\"dataframe\">\n",
       "  <thead>\n",
       "    <tr style=\"text-align: right;\">\n",
       "      <th></th>\n",
       "      <th>State</th>\n",
       "      <th>District</th>\n",
       "      <th>State Type</th>\n",
       "      <th>Unnamed: 3</th>\n",
       "      <th>Unnamed: 4</th>\n",
       "      <th>Last Updated: 28-Mar-2018</th>\n",
       "      <th>Unnamed: 6</th>\n",
       "    </tr>\n",
       "  </thead>\n",
       "  <tbody>\n",
       "    <tr>\n",
       "      <th>0</th>\n",
       "      <td>Andaman Nicobar</td>\n",
       "      <td>Nicobar</td>\n",
       "      <td>Union Territory</td>\n",
       "      <td>NaN</td>\n",
       "      <td>NaN</td>\n",
       "      <td>For Updated Visit:</td>\n",
       "      <td>www.askbankifsccode.com</td>\n",
       "    </tr>\n",
       "    <tr>\n",
       "      <th>1</th>\n",
       "      <td>Andaman Nicobar</td>\n",
       "      <td>North Middle Andaman</td>\n",
       "      <td>Union Territory</td>\n",
       "      <td>NaN</td>\n",
       "      <td>NaN</td>\n",
       "      <td>NaN</td>\n",
       "      <td>NaN</td>\n",
       "    </tr>\n",
       "    <tr>\n",
       "      <th>2</th>\n",
       "      <td>Andaman Nicobar</td>\n",
       "      <td>South Andaman</td>\n",
       "      <td>Union Territory</td>\n",
       "      <td>NaN</td>\n",
       "      <td>NaN</td>\n",
       "      <td>NaN</td>\n",
       "      <td>NaN</td>\n",
       "    </tr>\n",
       "    <tr>\n",
       "      <th>3</th>\n",
       "      <td>Andhra Pradesh</td>\n",
       "      <td>Anantapur</td>\n",
       "      <td>State</td>\n",
       "      <td>NaN</td>\n",
       "      <td>NaN</td>\n",
       "      <td>NaN</td>\n",
       "      <td>NaN</td>\n",
       "    </tr>\n",
       "    <tr>\n",
       "      <th>4</th>\n",
       "      <td>Andhra Pradesh</td>\n",
       "      <td>Chittoor</td>\n",
       "      <td>State</td>\n",
       "      <td>NaN</td>\n",
       "      <td>NaN</td>\n",
       "      <td>NaN</td>\n",
       "      <td>NaN</td>\n",
       "    </tr>\n",
       "  </tbody>\n",
       "</table>\n",
       "</div>"
      ],
      "text/plain": [
       "             State              District       State Type  Unnamed: 3  \\\n",
       "0  Andaman Nicobar               Nicobar  Union Territory         NaN   \n",
       "1  Andaman Nicobar  North Middle Andaman  Union Territory         NaN   \n",
       "2  Andaman Nicobar         South Andaman  Union Territory         NaN   \n",
       "3   Andhra Pradesh             Anantapur            State         NaN   \n",
       "4   Andhra Pradesh              Chittoor            State         NaN   \n",
       "\n",
       "   Unnamed: 4 Last Updated: 28-Mar-2018               Unnamed: 6  \n",
       "0         NaN        For Updated Visit:  www.askbankifsccode.com  \n",
       "1         NaN                       NaN                      NaN  \n",
       "2         NaN                       NaN                      NaN  \n",
       "3         NaN                       NaN                      NaN  \n",
       "4         NaN                       NaN                      NaN  "
      ]
     },
     "execution_count": 5,
     "metadata": {},
     "output_type": "execute_result"
    }
   ],
   "source": [
    "dist_new = pd.read_csv('districts_in_india/datafile_new.csv')\n",
    "dist_new.head()"
   ]
  },
  {
   "cell_type": "markdown",
   "metadata": {},
   "source": [
    "# Processing Data"
   ]
  },
  {
   "cell_type": "markdown",
   "metadata": {},
   "source": [
    "Each of the above dataframe is grouped based on the state and the total no. of **unique** districts in each state is found."
   ]
  },
  {
   "cell_type": "code",
   "execution_count": 7,
   "metadata": {
    "collapsed": true
   },
   "outputs": [],
   "source": [
    "# Subtracting -1 from the count because the old file has an unnecessary record 'Total' for your analysis \n",
    "old_data = dist_old.groupby('States/Union Territory')['Name of the District'].nunique()-1\n",
    "new_data = dist_new.groupby('State')['District'].nunique()"
   ]
  },
  {
   "cell_type": "code",
   "execution_count": 8,
   "metadata": {
    "collapsed": true
   },
   "outputs": [],
   "source": [
    "# Storing the grouped data locally to check for the presence of any anamoly. \n",
    "# There will only be a maximum of 36 rows in each file. So this shouldn't take much time\n",
    "old_data.to_csv('old_group.csv')\n",
    "new_data.to_csv('new_group.csv')"
   ]
  },
  {
   "cell_type": "code",
   "execution_count": 9,
   "metadata": {
    "collapsed": true
   },
   "outputs": [],
   "source": [
    "old_group = pd.read_csv('old_group.csv', delimiter= \",\", header=None)\n",
    "new_group = pd.read_csv('new_group.csv', delimiter= \",\", header=None)"
   ]
  },
  {
   "cell_type": "code",
   "execution_count": 11,
   "metadata": {},
   "outputs": [
    {
     "name": "stderr",
     "output_type": "stream",
     "text": [
      "/home/raam/anaconda3/lib/python3.6/site-packages/pandas/core/generic.py:3813: SettingWithCopyWarning: \n",
      "A value is trying to be set on a copy of a slice from a DataFrame\n",
      "\n",
      "See the caveats in the documentation: http://pandas.pydata.org/pandas-docs/stable/indexing.html#indexing-view-versus-copy\n",
      "  self._update_inplace(new_data)\n"
     ]
    }
   ],
   "source": [
    "# Clearing anomalies\n",
    "old_group.columns = ['state', 'no_of_districts_2017']\n",
    "new_group.columns = ['state', 'no_of_districts_2018']\n",
    "old_group = old_group[old_group.state != 'All India']\n",
    "old_group['state'].replace({'A& N Islands':'Andaman Nicobar', 'D & N Haveli':'Dadra Nagar Haveli', 'Daman & Diu':'Daman Diu', \n",
    "                                  'Jammu & Kashmir':'Jammu Kashmir','colored':'bad'}, inplace=True)\n",
    "old_group['no_of_districts_2017'].replace(0,1,inplace=True)"
   ]
  },
  {
   "cell_type": "code",
   "execution_count": 17,
   "metadata": {},
   "outputs": [
    {
     "data": {
      "text/plain": [
       "718"
      ]
     },
     "execution_count": 17,
     "metadata": {},
     "output_type": "execute_result"
    }
   ],
   "source": [
    "# total no. of districts in India as of March, 2018.\n",
    "new_group['no_of_districts_2018'].sum()"
   ]
  },
  {
   "cell_type": "code",
   "execution_count": 14,
   "metadata": {},
   "outputs": [
    {
     "data": {
      "text/html": [
       "<div>\n",
       "<style>\n",
       "    .dataframe thead tr:only-child th {\n",
       "        text-align: right;\n",
       "    }\n",
       "\n",
       "    .dataframe thead th {\n",
       "        text-align: left;\n",
       "    }\n",
       "\n",
       "    .dataframe tbody tr th {\n",
       "        vertical-align: top;\n",
       "    }\n",
       "</style>\n",
       "<table border=\"1\" class=\"dataframe\">\n",
       "  <thead>\n",
       "    <tr style=\"text-align: right;\">\n",
       "      <th></th>\n",
       "      <th>state</th>\n",
       "      <th>no_of_districts_2017</th>\n",
       "      <th>no_of_districts_2018</th>\n",
       "    </tr>\n",
       "  </thead>\n",
       "  <tbody>\n",
       "    <tr>\n",
       "      <th>2</th>\n",
       "      <td>Arunachal Pradesh</td>\n",
       "      <td>20</td>\n",
       "      <td>21</td>\n",
       "    </tr>\n",
       "    <tr>\n",
       "      <th>3</th>\n",
       "      <td>Assam</td>\n",
       "      <td>27</td>\n",
       "      <td>33</td>\n",
       "    </tr>\n",
       "    <tr>\n",
       "      <th>12</th>\n",
       "      <td>Haryana</td>\n",
       "      <td>21</td>\n",
       "      <td>22</td>\n",
       "    </tr>\n",
       "    <tr>\n",
       "      <th>20</th>\n",
       "      <td>Maharashtra</td>\n",
       "      <td>34</td>\n",
       "      <td>36</td>\n",
       "    </tr>\n",
       "    <tr>\n",
       "      <th>21</th>\n",
       "      <td>Manipur</td>\n",
       "      <td>9</td>\n",
       "      <td>16</td>\n",
       "    </tr>\n",
       "    <tr>\n",
       "      <th>23</th>\n",
       "      <td>Mizoram</td>\n",
       "      <td>9</td>\n",
       "      <td>8</td>\n",
       "    </tr>\n",
       "    <tr>\n",
       "      <th>35</th>\n",
       "      <td>West Bengal</td>\n",
       "      <td>19</td>\n",
       "      <td>23</td>\n",
       "    </tr>\n",
       "  </tbody>\n",
       "</table>\n",
       "</div>"
      ],
      "text/plain": [
       "                state  no_of_districts_2017  no_of_districts_2018\n",
       "2   Arunachal Pradesh                    20                    21\n",
       "3               Assam                    27                    33\n",
       "12            Haryana                    21                    22\n",
       "20        Maharashtra                    34                    36\n",
       "21            Manipur                     9                    16\n",
       "23            Mizoram                     9                     8\n",
       "35        West Bengal                    19                    23"
      ]
     },
     "execution_count": 14,
     "metadata": {},
     "output_type": "execute_result"
    }
   ],
   "source": [
    "# Getting records with unequal no. of districts\n",
    "# join dataframes\n",
    "grouped_data = pd.merge(old_group, new_group, on='state')\n",
    "states_with_new_districts = grouped_data[grouped_data['no_of_districts_2017'] != grouped_data['no_of_districts_2018']]\n",
    "states_with_new_districts"
   ]
  },
  {
   "cell_type": "code",
   "execution_count": 15,
   "metadata": {},
   "outputs": [
    {
     "data": {
      "text/plain": [
       "['Arunachal Pradesh',\n",
       " 'Assam',\n",
       " 'Haryana',\n",
       " 'Maharashtra',\n",
       " 'Manipur',\n",
       " 'Mizoram',\n",
       " 'West Bengal']"
      ]
     },
     "execution_count": 15,
     "metadata": {},
     "output_type": "execute_result"
    }
   ],
   "source": [
    "states_with_new_districts_list = states_with_new_districts['state'].tolist()\n",
    "states_with_new_districts_list"
   ]
  },
  {
   "cell_type": "code",
   "execution_count": 16,
   "metadata": {},
   "outputs": [
    {
     "name": "stdout",
     "output_type": "stream",
     "text": [
      "New districts in Arunachal Pradesh are:\n",
      "['Central Siang', 'Lower Siang', 'Siang']\n",
      "\n",
      "New districts in Assam are:\n",
      "['Biswanath', 'Charaideo', 'Hojai', 'Kamrup', 'Kamrup Metropolitan', 'Majuli', 'South Salmara-Mankachar', 'West Karbi Anglong', 'Kamrup (Metro)', 'Kamrup (Rural)']\n",
      "\n",
      "New districts in Haryana are:\n",
      "['Charkhi Dadri', 'Gurugram', 'Mahendragarh', 'Mewat', 'Gurugram (old name Gurgaon)', 'Mahendragarh (Narnaul)', 'Nuh (old name Mewat)']\n",
      "\n",
      "New districts in Maharashtra are:\n",
      "['Mumbai City', 'Mumbai Suburban', 'Sindhudurg', 'Sindhudurga']\n",
      "\n",
      "New districts in Manipur are:\n",
      "['Jiribam', 'Kakching', 'Kamjong', 'Kangpokpi', 'Noney', 'Pherzawl', 'Tengnoupal']\n",
      "\n",
      "something is different with Mizoram\n",
      "['Aizawl', 'Champhai', 'Kolasib', 'Lawngtlai', 'Lunglei', 'Mamit', 'Saiha', 'Serchhip', 'Aizawl East District', 'Aizawl West District', 'Champhai District', 'Kolasib District', 'Lawngtlai District', 'Lunglei District', 'Mamit District', 'Saiha District', 'Serchhip District']\n",
      "\n",
      "New districts in West Bengal are:\n",
      "['Cooch Behar', 'Darjeeling', 'Hooghly', 'Howrah', 'Jhargram', 'Kalimpong', 'Kolkata', 'North 24 Parganas', 'Paschim Bardhaman', 'Purba Bardhaman', 'Purulia', 'South 24 Parganas', 'Bardhaman', 'Darjiling', 'Haora', 'Hugli', 'Koch Bihar', 'North 24-Parganas', 'Puruliya', 'South 24-Parganas']\n",
      "\n"
     ]
    }
   ],
   "source": [
    "# Finding new districts\n",
    "def Difference_bn_lists(list1, list2):\n",
    "    list_dif = [elem for elem in list1 + list2 if elem not in list1 or elem not in list2]\n",
    "    return list_dif\n",
    "\n",
    "for state in states_with_new_districts_list:\n",
    "  districts_2017 = dist_old[dist_old['States/Union Territory'] == state]['Name of the District'].tolist()\n",
    "  try:\n",
    "    districts_2017.remove('Total')\n",
    "  except ValueError:\n",
    "    pass\n",
    "  \n",
    "  districts_2018 = dist_new[dist_new['State'] == state]['District'].tolist()\n",
    "  \n",
    "  if len(districts_2018) > len(districts_2017):\n",
    "    #new_districts = list(set(districts_2018) - set(districts_2017))\n",
    "    new_districts = Difference_bn_lists(districts_2018, districts_2017)\n",
    "    \n",
    "    print('New districts in ' + state + ' are:')\n",
    "    print(new_districts)\n",
    "    print(\"\")\n",
    "  else:\n",
    "    print('something is different with ' + state)\n",
    "    #new_districts = list(set(districts_2017) - set(districts_2018))\n",
    "    new_districts = Difference_bn_lists(districts_2018, districts_2017)\n",
    "    \n",
    "    print(new_districts)\n",
    "    print(\"\")"
   ]
  },
  {
   "cell_type": "markdown",
   "metadata": {},
   "source": [
    "# Interpretation of results:\n",
    "In this analysis, the date of creation of a district is assumed as that date mentioned in the respective Government's Gazette Notification (indicating the formation of that district)."
   ]
  },
  {
   "cell_type": "markdown",
   "metadata": {},
   "source": [
    "## States with new districts:\n",
    "\n",
    "-  **Arunachal Pradesh:** \n",
    "    -  ***Lower Siang*** : Created on March 3, 2014 (https://rbi.org.in/scripts/FS_Notification.aspx?Id=10980&fn=2754&Mode=0). However, became operational only in September, 2017 (https://www.telegraphindia.com/1170923/jsp/northeast/story_174524.jsp)  \n",
    "    -  ***Siang***: It seems that Siang and Central Siang are used interchangeably​.\n",
    "\n",
    "\n",
    "-  **Assam:**\n",
    "    Assam gets *8 new districts* in January, February and August 2016. (https://www.rbi.org.in/scripts/FS_Notification.aspx?Id=11207&fn=2754&Mode=0)\n",
    "    \n",
    "\n",
    "-  **Haryana:** \n",
    "    -  ***Charkhi Dadri:*** Formed as new district from municipality on December 1, 2016 ( https://rbidocs.rbi.org.in/rdocs/notification/PDFs/NOTI29275FA2A1EB189410E95382B00CAB00CB7.PDF) \n",
    "    -  ***Mahendragarh*** is an old district missing in the old data of 2017. ***Mewat*** is a old district renamed as ***Nuh*** in 2016.\n",
    "    \n",
    "    \n",
    "-  **Manipur:**\n",
    "    All *7 new districts* in Manipur are created on December 8, 2016 (http://manipur.gov.in/wp-content/uploads/2016/12/creation-of-7-district-1-2.pdf,  http://www.imphaltimes.com/news/item/7397-7-new-districts-including-jiribam-district-created-amidst-chaos)\n",
    "    "
   ]
  },
  {
   "cell_type": "markdown",
   "metadata": {},
   "source": [
    "## States whose old districts were erroneously recorded:\n",
    "\n",
    "-  **Maharastra:** \n",
    "    ***Mumbai*** and ***Mumbai sub urban*** seems to be missing in old data. And, ***Sindhudurg*** is erroneously recorded as ***Sindhudurga*** in old data\n",
    "\n",
    "\n",
    "-  **Mizhoram:**\n",
    "    East, west split of district ***Aizawl*** in the old data seems wrong. Several websites & google search confirm that Aizawl is one district.\n",
    "\n",
    "\n",
    "-  **West bengal:**\n",
    "    ***Cooch Behar*** and ***Koch Bihar*** are same old district. ***Darjeeling***, ***Hooghly***, ***Howrah*** are spelled differently. ***Jhargram***, ***Kalimpon***, ***Kolkata*** are old districts, missing in old data. Similarly, other districts are either misspelled or missed in old data. No new districts in West Bengal."
   ]
  },
  {
   "cell_type": "markdown",
   "metadata": {},
   "source": [
    "So, based on the above analysis, there are **718** districts in India currently. And the latest 5 districts were created in **Manipur** on **December 8, 2016**."
   ]
  },
  {
   "cell_type": "code",
   "execution_count": null,
   "metadata": {
    "collapsed": true
   },
   "outputs": [],
   "source": []
  }
 ],
 "metadata": {
  "kernelspec": {
   "display_name": "Python 3",
   "language": "python",
   "name": "python3"
  },
  "language_info": {
   "codemirror_mode": {
    "name": "ipython",
    "version": 3
   },
   "file_extension": ".py",
   "mimetype": "text/x-python",
   "name": "python",
   "nbconvert_exporter": "python",
   "pygments_lexer": "ipython3",
   "version": "3.6.1"
  }
 },
 "nbformat": 4,
 "nbformat_minor": 2
}
