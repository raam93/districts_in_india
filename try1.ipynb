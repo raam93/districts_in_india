{
 "cells": [
  {
   "cell_type": "code",
   "execution_count": 1,
   "metadata": {},
   "outputs": [
    {
     "name": "stderr",
     "output_type": "stream",
     "text": [
      "C:\\Users\\t-rakomm\\AppData\\Local\\Continuum\\anaconda3\\lib\\site-packages\\h5py\\__init__.py:36: FutureWarning: Conversion of the second argument of issubdtype from `float` to `np.floating` is deprecated. In future, it will be treated as `np.float64 == np.dtype(float).type`.\n",
      "  from ._conv import register_converters as _register_converters\n",
      "Using TensorFlow backend.\n"
     ]
    }
   ],
   "source": [
    "import pandas as pd\n",
    "import numpy as np\n",
    "\n",
    "import matplotlib.pyplot as plt\n",
    "import seaborn as sns\n",
    "\n",
    "from scipy.optimize import minimize\n",
    "import random\n",
    "\n",
    "from sklearn.model_selection import StratifiedKFold\n",
    "from sklearn.model_selection import train_test_split"
   ]
  },
  {
   "cell_type": "code",
   "execution_count": 141,
   "metadata": {},
   "outputs": [],
   "source": [
    "from keras.models import Sequential\n",
    "from keras.layers import Dense"
   ]
  },
  {
   "cell_type": "code",
   "execution_count": 21,
   "metadata": {},
   "outputs": [],
   "source": [
    "df = pd.read_excel(\"lsat_train.xlsx\")\n",
    "df1 = df.iloc[:,0:4]\n",
    "\n",
    "df = pd.read_excel(\"lsat_test.xlsx\")\n",
    "df2 = df.iloc[:,0:4]"
   ]
  },
  {
   "cell_type": "code",
   "execution_count": 51,
   "metadata": {},
   "outputs": [
    {
     "data": {
      "text/html": [
       "<div>\n",
       "<style scoped>\n",
       "    .dataframe tbody tr th:only-of-type {\n",
       "        vertical-align: middle;\n",
       "    }\n",
       "\n",
       "    .dataframe tbody tr th {\n",
       "        vertical-align: top;\n",
       "    }\n",
       "\n",
       "    .dataframe thead th {\n",
       "        text-align: right;\n",
       "    }\n",
       "</style>\n",
       "<table border=\"1\" class=\"dataframe\">\n",
       "  <thead>\n",
       "    <tr style=\"text-align: right;\">\n",
       "      <th></th>\n",
       "      <th>gpa</th>\n",
       "      <th>lsat</th>\n",
       "      <th>isblack</th>\n",
       "      <th>fya</th>\n",
       "    </tr>\n",
       "  </thead>\n",
       "  <tbody>\n",
       "    <tr>\n",
       "      <th>count</th>\n",
       "      <td>15653.000000</td>\n",
       "      <td>15653.000000</td>\n",
       "      <td>15653.000000</td>\n",
       "      <td>15653.000000</td>\n",
       "    </tr>\n",
       "    <tr>\n",
       "      <th>mean</th>\n",
       "      <td>3.236485</td>\n",
       "      <td>36.982400</td>\n",
       "      <td>0.064077</td>\n",
       "      <td>0.146413</td>\n",
       "    </tr>\n",
       "    <tr>\n",
       "      <th>std</th>\n",
       "      <td>0.412519</td>\n",
       "      <td>5.334661</td>\n",
       "      <td>0.244898</td>\n",
       "      <td>0.926228</td>\n",
       "    </tr>\n",
       "    <tr>\n",
       "      <th>min</th>\n",
       "      <td>0.000000</td>\n",
       "      <td>11.000000</td>\n",
       "      <td>0.000000</td>\n",
       "      <td>-3.350000</td>\n",
       "    </tr>\n",
       "    <tr>\n",
       "      <th>25%</th>\n",
       "      <td>3.000000</td>\n",
       "      <td>34.000000</td>\n",
       "      <td>0.000000</td>\n",
       "      <td>-0.490000</td>\n",
       "    </tr>\n",
       "    <tr>\n",
       "      <th>50%</th>\n",
       "      <td>3.300000</td>\n",
       "      <td>37.000000</td>\n",
       "      <td>0.000000</td>\n",
       "      <td>0.140000</td>\n",
       "    </tr>\n",
       "    <tr>\n",
       "      <th>75%</th>\n",
       "      <td>3.500000</td>\n",
       "      <td>41.000000</td>\n",
       "      <td>0.000000</td>\n",
       "      <td>0.790000</td>\n",
       "    </tr>\n",
       "    <tr>\n",
       "      <th>max</th>\n",
       "      <td>4.200000</td>\n",
       "      <td>48.000000</td>\n",
       "      <td>1.000000</td>\n",
       "      <td>3.480000</td>\n",
       "    </tr>\n",
       "  </tbody>\n",
       "</table>\n",
       "</div>"
      ],
      "text/plain": [
       "                gpa          lsat       isblack           fya\n",
       "count  15653.000000  15653.000000  15653.000000  15653.000000\n",
       "mean       3.236485     36.982400      0.064077      0.146413\n",
       "std        0.412519      5.334661      0.244898      0.926228\n",
       "min        0.000000     11.000000      0.000000     -3.350000\n",
       "25%        3.000000     34.000000      0.000000     -0.490000\n",
       "50%        3.300000     37.000000      0.000000      0.140000\n",
       "75%        3.500000     41.000000      0.000000      0.790000\n",
       "max        4.200000     48.000000      1.000000      3.480000"
      ]
     },
     "execution_count": 51,
     "metadata": {},
     "output_type": "execute_result"
    }
   ],
   "source": [
    "df1.describe() # change isblack into categorical or rnage of gpa to 0-4"
   ]
  },
  {
   "cell_type": "code",
   "execution_count": 97,
   "metadata": {},
   "outputs": [],
   "source": [
    "\n",
    "lsat_trainX = df1.values[:,0:3]\n",
    "lsat_trainY = df1.values[:,3]\n",
    "\n",
    "lsat_testX = df2.values[:,0:3]\n",
    "lsat_testY = df2.values[:,3]"
   ]
  },
  {
   "cell_type": "code",
   "execution_count": 346,
   "metadata": {},
   "outputs": [
    {
     "data": {
      "text/plain": [
       "(3913, 3)"
      ]
     },
     "execution_count": 346,
     "metadata": {},
     "output_type": "execute_result"
    }
   ],
   "source": [
    "lsat_testX.shape"
   ]
  },
  {
   "cell_type": "markdown",
   "metadata": {},
   "source": [
    "Inference from model description and plot:\n",
    "\n",
    "Doubts:\n",
    "1. can gpa be greater than 4? \n",
    "\n",
    "Plots and features's descriptions hints that model is not properly trained because\n",
    "1. ratio of blacks to whites is ~ 1:14\n",
    "\n",
    "So, given a model, if our explanation says to change the race, then debugger can sense something is wrong with model building.\n",
    "sounds ok??\n"
   ]
  },
  {
   "cell_type": "code",
   "execution_count": 68,
   "metadata": {},
   "outputs": [
    {
     "data": {
      "text/plain": [
       "1003"
      ]
     },
     "execution_count": 68,
     "metadata": {},
     "output_type": "execute_result"
    }
   ],
   "source": [
    "len(df1[df1['gpa']>4])"
   ]
  },
  {
   "cell_type": "code",
   "execution_count": 347,
   "metadata": {},
   "outputs": [
    {
     "name": "stdout",
     "output_type": "stream",
     "text": [
      "3634\n",
      "279\n"
     ]
    },
    {
     "name": "stderr",
     "output_type": "stream",
     "text": [
      "C:\\Users\\t-rakomm\\AppData\\Local\\Continuum\\anaconda3\\lib\\site-packages\\ipykernel_launcher.py:1: UserWarning: Boolean Series key will be reindexed to match DataFrame index.\n",
      "  \"\"\"Entry point for launching an IPython kernel.\n",
      "C:\\Users\\t-rakomm\\AppData\\Local\\Continuum\\anaconda3\\lib\\site-packages\\ipykernel_launcher.py:2: UserWarning: Boolean Series key will be reindexed to match DataFrame index.\n",
      "  \n"
     ]
    }
   ],
   "source": [
    "print(len(df2[df1['isblack']==0]))\n",
    "print(len(df2[df1['isblack']==1]))"
   ]
  },
  {
   "cell_type": "markdown",
   "metadata": {},
   "source": [
    "### Training"
   ]
  },
  {
   "cell_type": "code",
   "execution_count": 100,
   "metadata": {},
   "outputs": [],
   "source": [
    "# checked the model by scaling it - no improvement - so using unscaled versions for interpretability\n",
    "from sklearn.preprocessing import StandardScaler\n",
    "\n",
    "scaler = StandardScaler().fit(lsat_trainX)\n",
    "X_train = scaler.transform(lsat_trainX)\n",
    "X_test = scaler.transform(lsat_testX)"
   ]
  },
  {
   "cell_type": "code",
   "execution_count": 144,
   "metadata": {
    "scrolled": true
   },
   "outputs": [
    {
     "name": "stdout",
     "output_type": "stream",
     "text": [
      "Train on 15653 samples, validate on 3913 samples\n",
      "Epoch 1/100\n",
      "15653/15653 [==============================] - 1s 52us/step - loss: 0.8410 - mean_absolute_error: 0.7394 - val_loss: 0.8146 - val_mean_absolute_error: 0.7262\n",
      "Epoch 2/100\n",
      "15653/15653 [==============================] - 0s 24us/step - loss: 0.8070 - mean_absolute_error: 0.7251 - val_loss: 0.7707 - val_mean_absolute_error: 0.7075\n",
      "Epoch 3/100\n",
      "15653/15653 [==============================] - 0s 23us/step - loss: 0.7799 - mean_absolute_error: 0.7122 - val_loss: 0.7573 - val_mean_absolute_error: 0.7014\n",
      "Epoch 4/100\n",
      "15653/15653 [==============================] - 0s 23us/step - loss: 0.7697 - mean_absolute_error: 0.7077 - val_loss: 0.7590 - val_mean_absolute_error: 0.7017\n",
      "Epoch 5/100\n",
      "15653/15653 [==============================] - 0s 23us/step - loss: 0.7647 - mean_absolute_error: 0.7044 - val_loss: 0.7765 - val_mean_absolute_error: 0.7095\n",
      "Epoch 6/100\n",
      "15653/15653 [==============================] - 0s 23us/step - loss: 0.7644 - mean_absolute_error: 0.7047 - val_loss: 0.7495 - val_mean_absolute_error: 0.6976\n",
      "Epoch 7/100\n",
      "15653/15653 [==============================] - 0s 23us/step - loss: 0.7612 - mean_absolute_error: 0.7035 - val_loss: 0.7481 - val_mean_absolute_error: 0.6970\n",
      "Epoch 8/100\n",
      "15653/15653 [==============================] - 0s 23us/step - loss: 0.7631 - mean_absolute_error: 0.7038 - val_loss: 0.7509 - val_mean_absolute_error: 0.6981\n",
      "Epoch 9/100\n",
      "15653/15653 [==============================] - 0s 23us/step - loss: 0.7612 - mean_absolute_error: 0.7025 - val_loss: 0.7514 - val_mean_absolute_error: 0.6983\n",
      "Epoch 10/100\n",
      "15653/15653 [==============================] - 0s 23us/step - loss: 0.7584 - mean_absolute_error: 0.7014 - val_loss: 0.7522 - val_mean_absolute_error: 0.6988\n",
      "Epoch 11/100\n",
      "15653/15653 [==============================] - 0s 23us/step - loss: 0.7598 - mean_absolute_error: 0.7021 - val_loss: 0.7496 - val_mean_absolute_error: 0.6974\n",
      "Epoch 12/100\n",
      "15653/15653 [==============================] - 0s 23us/step - loss: 0.7589 - mean_absolute_error: 0.7014 - val_loss: 0.7484 - val_mean_absolute_error: 0.6970\n",
      "Epoch 13/100\n",
      "15653/15653 [==============================] - 0s 23us/step - loss: 0.7593 - mean_absolute_error: 0.7016 - val_loss: 0.7474 - val_mean_absolute_error: 0.6967\n",
      "Epoch 14/100\n",
      "15653/15653 [==============================] - 0s 23us/step - loss: 0.7598 - mean_absolute_error: 0.7020 - val_loss: 0.7480 - val_mean_absolute_error: 0.6968\n",
      "Epoch 15/100\n",
      "15653/15653 [==============================] - 0s 23us/step - loss: 0.7597 - mean_absolute_error: 0.7019 - val_loss: 0.7569 - val_mean_absolute_error: 0.7009\n",
      "Epoch 16/100\n",
      "15653/15653 [==============================] - 0s 23us/step - loss: 0.7586 - mean_absolute_error: 0.7013 - val_loss: 0.7484 - val_mean_absolute_error: 0.6971\n",
      "Epoch 17/100\n",
      "15653/15653 [==============================] - 0s 23us/step - loss: 0.7577 - mean_absolute_error: 0.7009 - val_loss: 0.7506 - val_mean_absolute_error: 0.6984\n",
      "Epoch 18/100\n",
      "15653/15653 [==============================] - 0s 23us/step - loss: 0.7583 - mean_absolute_error: 0.7014 - val_loss: 0.7494 - val_mean_absolute_error: 0.6977\n",
      "Epoch 19/100\n",
      "15653/15653 [==============================] - 0s 24us/step - loss: 0.7589 - mean_absolute_error: 0.7012 - val_loss: 0.7497 - val_mean_absolute_error: 0.6976\n",
      "Epoch 20/100\n",
      "15653/15653 [==============================] - 0s 23us/step - loss: 0.7566 - mean_absolute_error: 0.7001 - val_loss: 0.7474 - val_mean_absolute_error: 0.6969\n",
      "Epoch 21/100\n",
      "15653/15653 [==============================] - 0s 23us/step - loss: 0.7579 - mean_absolute_error: 0.7002 - val_loss: 0.7512 - val_mean_absolute_error: 0.6985\n",
      "Epoch 22/100\n",
      "15653/15653 [==============================] - 0s 23us/step - loss: 0.7566 - mean_absolute_error: 0.7007 - val_loss: 0.7484 - val_mean_absolute_error: 0.6975\n",
      "Epoch 23/100\n",
      "15653/15653 [==============================] - 0s 22us/step - loss: 0.7572 - mean_absolute_error: 0.7009 - val_loss: 0.7483 - val_mean_absolute_error: 0.6971\n",
      "Epoch 24/100\n",
      "15653/15653 [==============================] - 0s 24us/step - loss: 0.7573 - mean_absolute_error: 0.7009 - val_loss: 0.7481 - val_mean_absolute_error: 0.6971\n",
      "Epoch 25/100\n",
      "15653/15653 [==============================] - 0s 23us/step - loss: 0.7582 - mean_absolute_error: 0.7015 - val_loss: 0.7490 - val_mean_absolute_error: 0.6973\n",
      "Epoch 26/100\n",
      "15653/15653 [==============================] - 0s 23us/step - loss: 0.7599 - mean_absolute_error: 0.7023 - val_loss: 0.7493 - val_mean_absolute_error: 0.6983\n",
      "Epoch 27/100\n",
      "15653/15653 [==============================] - 0s 23us/step - loss: 0.7576 - mean_absolute_error: 0.7011 - val_loss: 0.7702 - val_mean_absolute_error: 0.7069\n",
      "Epoch 28/100\n",
      "15653/15653 [==============================] - 0s 23us/step - loss: 0.7578 - mean_absolute_error: 0.7008 - val_loss: 0.7693 - val_mean_absolute_error: 0.7063\n",
      "Epoch 29/100\n",
      "15653/15653 [==============================] - 0s 24us/step - loss: 0.7572 - mean_absolute_error: 0.7007 - val_loss: 0.7482 - val_mean_absolute_error: 0.6972\n",
      "Epoch 30/100\n",
      "15653/15653 [==============================] - 0s 23us/step - loss: 0.7563 - mean_absolute_error: 0.7003 - val_loss: 0.7484 - val_mean_absolute_error: 0.6975\n",
      "Epoch 31/100\n",
      "15653/15653 [==============================] - 0s 23us/step - loss: 0.7569 - mean_absolute_error: 0.7004 - val_loss: 0.7702 - val_mean_absolute_error: 0.7066\n",
      "Epoch 32/100\n",
      "15653/15653 [==============================] - 0s 23us/step - loss: 0.7579 - mean_absolute_error: 0.7007 - val_loss: 0.7527 - val_mean_absolute_error: 0.6993\n",
      "Epoch 33/100\n",
      "15653/15653 [==============================] - 0s 23us/step - loss: 0.7561 - mean_absolute_error: 0.6995 - val_loss: 0.7483 - val_mean_absolute_error: 0.6973\n",
      "Epoch 34/100\n",
      "15653/15653 [==============================] - 0s 24us/step - loss: 0.7584 - mean_absolute_error: 0.7013 - val_loss: 0.7505 - val_mean_absolute_error: 0.6987\n",
      "Epoch 35/100\n",
      "15653/15653 [==============================] - 0s 26us/step - loss: 0.7571 - mean_absolute_error: 0.7005 - val_loss: 0.7487 - val_mean_absolute_error: 0.6974\n",
      "Epoch 36/100\n",
      "15653/15653 [==============================] - 0s 25us/step - loss: 0.7571 - mean_absolute_error: 0.7007 - val_loss: 0.7496 - val_mean_absolute_error: 0.6978\n",
      "Epoch 37/100\n",
      "15653/15653 [==============================] - 0s 25us/step - loss: 0.7564 - mean_absolute_error: 0.7002 - val_loss: 0.7525 - val_mean_absolute_error: 0.6992\n",
      "Epoch 38/100\n",
      "15653/15653 [==============================] - 0s 25us/step - loss: 0.7553 - mean_absolute_error: 0.6998 - val_loss: 0.7498 - val_mean_absolute_error: 0.6985\n",
      "Epoch 39/100\n",
      "15653/15653 [==============================] - 0s 25us/step - loss: 0.7560 - mean_absolute_error: 0.7001 - val_loss: 0.7500 - val_mean_absolute_error: 0.6981\n",
      "Epoch 40/100\n",
      "15653/15653 [==============================] - 0s 23us/step - loss: 0.7562 - mean_absolute_error: 0.7000 - val_loss: 0.7525 - val_mean_absolute_error: 0.6993\n",
      "Epoch 41/100\n",
      "15653/15653 [==============================] - 0s 24us/step - loss: 0.7582 - mean_absolute_error: 0.7017 - val_loss: 0.7488 - val_mean_absolute_error: 0.6973\n",
      "Epoch 42/100\n",
      "15653/15653 [==============================] - 0s 25us/step - loss: 0.7571 - mean_absolute_error: 0.7005 - val_loss: 0.7503 - val_mean_absolute_error: 0.6982\n",
      "Epoch 43/100\n",
      "15653/15653 [==============================] - 0s 23us/step - loss: 0.7557 - mean_absolute_error: 0.6996 - val_loss: 0.7491 - val_mean_absolute_error: 0.6977\n",
      "Epoch 44/100\n",
      "15653/15653 [==============================] - 0s 23us/step - loss: 0.7568 - mean_absolute_error: 0.7003 - val_loss: 0.7496 - val_mean_absolute_error: 0.6977\n",
      "Epoch 45/100\n",
      "15653/15653 [==============================] - 0s 24us/step - loss: 0.7562 - mean_absolute_error: 0.6999 - val_loss: 0.7491 - val_mean_absolute_error: 0.6977\n",
      "Epoch 46/100\n",
      "15653/15653 [==============================] - 0s 23us/step - loss: 0.7563 - mean_absolute_error: 0.6998 - val_loss: 0.7513 - val_mean_absolute_error: 0.6987\n",
      "Epoch 47/100\n",
      "15653/15653 [==============================] - 0s 23us/step - loss: 0.7561 - mean_absolute_error: 0.6997 - val_loss: 0.7502 - val_mean_absolute_error: 0.6981\n",
      "Epoch 48/100\n",
      "15653/15653 [==============================] - 0s 23us/step - loss: 0.7562 - mean_absolute_error: 0.6997 - val_loss: 0.7530 - val_mean_absolute_error: 0.6991\n"
     ]
    },
    {
     "name": "stdout",
     "output_type": "stream",
     "text": [
      "Epoch 49/100\n",
      "15653/15653 [==============================] - 0s 23us/step - loss: 0.7553 - mean_absolute_error: 0.6997 - val_loss: 0.7521 - val_mean_absolute_error: 0.6990\n",
      "Epoch 50/100\n",
      "15653/15653 [==============================] - 0s 23us/step - loss: 0.7575 - mean_absolute_error: 0.7009 - val_loss: 0.7526 - val_mean_absolute_error: 0.6994\n",
      "Epoch 51/100\n",
      "15653/15653 [==============================] - 0s 23us/step - loss: 0.7565 - mean_absolute_error: 0.6999 - val_loss: 0.7492 - val_mean_absolute_error: 0.6978\n",
      "Epoch 52/100\n",
      "15653/15653 [==============================] - 0s 23us/step - loss: 0.7552 - mean_absolute_error: 0.6996 - val_loss: 0.7539 - val_mean_absolute_error: 0.6998\n",
      "Epoch 53/100\n",
      "15653/15653 [==============================] - 0s 23us/step - loss: 0.7555 - mean_absolute_error: 0.6998 - val_loss: 0.7492 - val_mean_absolute_error: 0.6975\n",
      "Epoch 54/100\n",
      "15653/15653 [==============================] - 0s 23us/step - loss: 0.7548 - mean_absolute_error: 0.6994 - val_loss: 0.7484 - val_mean_absolute_error: 0.6972\n",
      "Epoch 55/100\n",
      "15653/15653 [==============================] - 0s 23us/step - loss: 0.7558 - mean_absolute_error: 0.7001 - val_loss: 0.7486 - val_mean_absolute_error: 0.6975\n",
      "Epoch 56/100\n",
      "15653/15653 [==============================] - 0s 23us/step - loss: 0.7553 - mean_absolute_error: 0.6995 - val_loss: 0.7518 - val_mean_absolute_error: 0.6993\n",
      "Epoch 57/100\n",
      "15653/15653 [==============================] - 0s 22us/step - loss: 0.7554 - mean_absolute_error: 0.6999 - val_loss: 0.7489 - val_mean_absolute_error: 0.6975\n",
      "Epoch 58/100\n",
      "15653/15653 [==============================] - 0s 23us/step - loss: 0.7574 - mean_absolute_error: 0.7004 - val_loss: 0.7560 - val_mean_absolute_error: 0.7009\n",
      "Epoch 59/100\n",
      "15653/15653 [==============================] - 0s 23us/step - loss: 0.7560 - mean_absolute_error: 0.7002 - val_loss: 0.7487 - val_mean_absolute_error: 0.6977\n",
      "Epoch 60/100\n",
      "15653/15653 [==============================] - 0s 23us/step - loss: 0.7565 - mean_absolute_error: 0.7004 - val_loss: 0.7507 - val_mean_absolute_error: 0.6985\n",
      "Epoch 61/100\n",
      "15653/15653 [==============================] - 0s 23us/step - loss: 0.7542 - mean_absolute_error: 0.6992 - val_loss: 0.7595 - val_mean_absolute_error: 0.7017\n",
      "Epoch 62/100\n",
      "15653/15653 [==============================] - 0s 23us/step - loss: 0.7551 - mean_absolute_error: 0.6992 - val_loss: 0.7479 - val_mean_absolute_error: 0.6975\n",
      "Epoch 63/100\n",
      "15653/15653 [==============================] - 0s 23us/step - loss: 0.7570 - mean_absolute_error: 0.7001 - val_loss: 0.7537 - val_mean_absolute_error: 0.7002\n",
      "Epoch 64/100\n",
      "15653/15653 [==============================] - 0s 23us/step - loss: 0.7552 - mean_absolute_error: 0.7001 - val_loss: 0.7476 - val_mean_absolute_error: 0.6973\n",
      "Epoch 65/100\n",
      "15653/15653 [==============================] - 0s 23us/step - loss: 0.7543 - mean_absolute_error: 0.6992 - val_loss: 0.7478 - val_mean_absolute_error: 0.6973\n",
      "Epoch 66/100\n",
      "15653/15653 [==============================] - 0s 23us/step - loss: 0.7556 - mean_absolute_error: 0.6995 - val_loss: 0.7505 - val_mean_absolute_error: 0.6987\n",
      "Epoch 67/100\n",
      "15653/15653 [==============================] - 0s 24us/step - loss: 0.7553 - mean_absolute_error: 0.6996 - val_loss: 0.7652 - val_mean_absolute_error: 0.7043\n",
      "Epoch 68/100\n",
      "15653/15653 [==============================] - 0s 23us/step - loss: 0.7550 - mean_absolute_error: 0.6994 - val_loss: 0.7484 - val_mean_absolute_error: 0.6973\n",
      "Epoch 69/100\n",
      "15653/15653 [==============================] - 0s 23us/step - loss: 0.7556 - mean_absolute_error: 0.6997 - val_loss: 0.7570 - val_mean_absolute_error: 0.7013\n",
      "Epoch 70/100\n",
      "15653/15653 [==============================] - 0s 23us/step - loss: 0.7559 - mean_absolute_error: 0.7003 - val_loss: 0.7635 - val_mean_absolute_error: 0.7037\n",
      "Epoch 71/100\n",
      "15653/15653 [==============================] - 0s 23us/step - loss: 0.7549 - mean_absolute_error: 0.6991 - val_loss: 0.7486 - val_mean_absolute_error: 0.6976\n",
      "Epoch 72/100\n",
      "15653/15653 [==============================] - 0s 24us/step - loss: 0.7549 - mean_absolute_error: 0.6993 - val_loss: 0.7554 - val_mean_absolute_error: 0.7005\n",
      "Epoch 73/100\n",
      "15653/15653 [==============================] - 0s 23us/step - loss: 0.7555 - mean_absolute_error: 0.6990 - val_loss: 0.7528 - val_mean_absolute_error: 0.6996\n",
      "Epoch 74/100\n",
      "15653/15653 [==============================] - 0s 23us/step - loss: 0.7560 - mean_absolute_error: 0.6998 - val_loss: 0.7495 - val_mean_absolute_error: 0.6982\n",
      "Epoch 75/100\n",
      "15653/15653 [==============================] - 0s 23us/step - loss: 0.7541 - mean_absolute_error: 0.6986 - val_loss: 0.7521 - val_mean_absolute_error: 0.6994\n",
      "Epoch 76/100\n",
      "15653/15653 [==============================] - 0s 23us/step - loss: 0.7542 - mean_absolute_error: 0.6990 - val_loss: 0.7479 - val_mean_absolute_error: 0.6974\n",
      "Epoch 77/100\n",
      "15653/15653 [==============================] - 0s 25us/step - loss: 0.7556 - mean_absolute_error: 0.6997 - val_loss: 0.7483 - val_mean_absolute_error: 0.6974\n",
      "Epoch 78/100\n",
      "15653/15653 [==============================] - 0s 28us/step - loss: 0.7540 - mean_absolute_error: 0.6993 - val_loss: 0.7517 - val_mean_absolute_error: 0.6987\n",
      "Epoch 79/100\n",
      "15653/15653 [==============================] - 0s 27us/step - loss: 0.7538 - mean_absolute_error: 0.6986 - val_loss: 0.7490 - val_mean_absolute_error: 0.6977\n",
      "Epoch 80/100\n",
      "15653/15653 [==============================] - 0s 25us/step - loss: 0.7551 - mean_absolute_error: 0.6998 - val_loss: 0.7482 - val_mean_absolute_error: 0.6975\n",
      "Epoch 81/100\n",
      "15653/15653 [==============================] - 0s 24us/step - loss: 0.7546 - mean_absolute_error: 0.6993 - val_loss: 0.7560 - val_mean_absolute_error: 0.7006\n",
      "Epoch 82/100\n",
      "15653/15653 [==============================] - 0s 24us/step - loss: 0.7546 - mean_absolute_error: 0.6994 - val_loss: 0.7506 - val_mean_absolute_error: 0.6988\n",
      "Epoch 83/100\n",
      "15653/15653 [==============================] - 0s 23us/step - loss: 0.7536 - mean_absolute_error: 0.6989 - val_loss: 0.7577 - val_mean_absolute_error: 0.7013\n",
      "Epoch 84/100\n",
      "15653/15653 [==============================] - 0s 23us/step - loss: 0.7544 - mean_absolute_error: 0.6995 - val_loss: 0.7529 - val_mean_absolute_error: 0.6993\n",
      "Epoch 85/100\n",
      "15653/15653 [==============================] - 0s 23us/step - loss: 0.7538 - mean_absolute_error: 0.6989 - val_loss: 0.7483 - val_mean_absolute_error: 0.6982\n",
      "Epoch 86/100\n",
      "15653/15653 [==============================] - 0s 23us/step - loss: 0.7541 - mean_absolute_error: 0.6986 - val_loss: 0.7486 - val_mean_absolute_error: 0.6981\n",
      "Epoch 87/100\n",
      "15653/15653 [==============================] - 0s 23us/step - loss: 0.7539 - mean_absolute_error: 0.6992 - val_loss: 0.7483 - val_mean_absolute_error: 0.6975\n",
      "Epoch 88/100\n",
      "15653/15653 [==============================] - 0s 23us/step - loss: 0.7537 - mean_absolute_error: 0.6989 - val_loss: 0.7469 - val_mean_absolute_error: 0.6973\n",
      "Epoch 89/100\n",
      "15653/15653 [==============================] - 0s 23us/step - loss: 0.7536 - mean_absolute_error: 0.6996 - val_loss: 0.7493 - val_mean_absolute_error: 0.6979\n",
      "Epoch 90/100\n",
      "15653/15653 [==============================] - 0s 23us/step - loss: 0.7538 - mean_absolute_error: 0.6987 - val_loss: 0.7500 - val_mean_absolute_error: 0.6982\n",
      "Epoch 91/100\n",
      "15653/15653 [==============================] - 0s 23us/step - loss: 0.7547 - mean_absolute_error: 0.6990 - val_loss: 0.7472 - val_mean_absolute_error: 0.6973\n",
      "Epoch 92/100\n",
      "15653/15653 [==============================] - 0s 23us/step - loss: 0.7532 - mean_absolute_error: 0.6985 - val_loss: 0.7485 - val_mean_absolute_error: 0.6976\n",
      "Epoch 93/100\n",
      "15653/15653 [==============================] - 0s 23us/step - loss: 0.7526 - mean_absolute_error: 0.6982 - val_loss: 0.7472 - val_mean_absolute_error: 0.6973\n",
      "Epoch 94/100\n",
      "15653/15653 [==============================] - 0s 23us/step - loss: 0.7557 - mean_absolute_error: 0.7000 - val_loss: 0.7473 - val_mean_absolute_error: 0.6974\n",
      "Epoch 95/100\n",
      "15653/15653 [==============================] - 0s 23us/step - loss: 0.7534 - mean_absolute_error: 0.6986 - val_loss: 0.7575 - val_mean_absolute_error: 0.7013\n",
      "Epoch 96/100\n",
      "15653/15653 [==============================] - 0s 23us/step - loss: 0.7545 - mean_absolute_error: 0.6994 - val_loss: 0.7473 - val_mean_absolute_error: 0.6972\n"
     ]
    },
    {
     "name": "stdout",
     "output_type": "stream",
     "text": [
      "Epoch 97/100\n",
      "15653/15653 [==============================] - 0s 23us/step - loss: 0.7537 - mean_absolute_error: 0.6990 - val_loss: 0.7467 - val_mean_absolute_error: 0.6972\n",
      "Epoch 98/100\n",
      "15653/15653 [==============================] - 0s 22us/step - loss: 0.7540 - mean_absolute_error: 0.6988 - val_loss: 0.7544 - val_mean_absolute_error: 0.7000\n",
      "Epoch 99/100\n",
      "15653/15653 [==============================] - 0s 23us/step - loss: 0.7544 - mean_absolute_error: 0.6993 - val_loss: 0.7480 - val_mean_absolute_error: 0.6974\n",
      "Epoch 100/100\n",
      "15653/15653 [==============================] - 0s 22us/step - loss: 0.7530 - mean_absolute_error: 0.6985 - val_loss: 0.7476 - val_mean_absolute_error: 0.6973\n"
     ]
    },
    {
     "data": {
      "text/plain": [
       "<keras.callbacks.History at 0x25b5ffabc18>"
      ]
     },
     "execution_count": 144,
     "metadata": {},
     "output_type": "execute_result"
    }
   ],
   "source": [
    "# using manual test set\n",
    "seed = 7\n",
    "np.random.seed(seed)\n",
    "\n",
    "# create model\n",
    "model = Sequential()\n",
    "model.add(Dense(20, input_dim=3, kernel_initializer='normal', bias_initializer='zeros', activation='relu'))\n",
    "model.add(Dense(20, kernel_initializer='normal', bias_initializer='zeros', activation='relu'))\n",
    "model.add(Dense(1, kernel_initializer='normal', bias_initializer='zeros'))\n",
    "\n",
    "# Compile model\n",
    "model.compile(loss='mean_squared_error', optimizer='adam', metrics=['mae'])\n",
    "\n",
    "# Fit the model\n",
    "model.fit(lsat_trainX, lsat_trainY, validation_data=(lsat_testX,lsat_testY), epochs=100)"
   ]
  },
  {
   "cell_type": "code",
   "execution_count": 145,
   "metadata": {},
   "outputs": [
    {
     "data": {
      "text/plain": [
       "0.11080368786061934"
      ]
     },
     "execution_count": 145,
     "metadata": {},
     "output_type": "execute_result"
    }
   ],
   "source": [
    "from sklearn.metrics import r2_score\n",
    "\n",
    "ypreds = model.predict(lsat_testX)\n",
    "\n",
    "r2_score(lsat_testY, ypreds.ravel())"
   ]
  },
  {
   "cell_type": "code",
   "execution_count": 146,
   "metadata": {
    "scrolled": true
   },
   "outputs": [
    {
     "data": {
      "text/plain": [
       "<matplotlib.axes._subplots.AxesSubplot at 0x25b5ff9fd30>"
      ]
     },
     "execution_count": 146,
     "metadata": {},
     "output_type": "execute_result"
    },
    {
     "data": {
      "image/png": "[encoded data removed]",
      "text/plain": [
       "<Figure size 432x288 with 1 Axes>"
      ]
     },
     "metadata": {},
     "output_type": "display_data"
    }
   ],
   "source": [
    "sns.regplot(ypreds.ravel(), lsat_testY)"
   ]
  },
  {
   "cell_type": "code",
   "execution_count": null,
   "metadata": {},
   "outputs": [],
   "source": []
  },
  {
   "cell_type": "markdown",
   "metadata": {},
   "source": [
    "### Generate CFs"
   ]
  },
  {
   "cell_type": "code",
   "execution_count": 391,
   "metadata": {},
   "outputs": [],
   "source": [
    "from scipy.optimize import Bounds"
   ]
  },
  {
   "cell_type": "code",
   "execution_count": 427,
   "metadata": {},
   "outputs": [],
   "source": [
    "bounds = Bounds([0, 11, 0], [4.2, 48, 1])"
   ]
  },
  {
   "cell_type": "code",
   "execution_count": 387,
   "metadata": {},
   "outputs": [],
   "source": [
    "def mad(k):\n",
    "#    if k == 2:\n",
    "#        return 0.5\n",
    "    med1 = np.median(lsat_trainX[:,k])\n",
    "    return np.median(abs(lsat_trainX[:,k] - med1))\n",
    "\n",
    "def dist_amad(x1, x2):\n",
    "    d = 0\n",
    "    for k in range(0,num_features):\n",
    "        d = d+(abs(x1[k] - x2[k])/mad(k))\n",
    "    return d\n",
    "\n",
    "def dist_ued(x1, x2):\n",
    "    return sum((x1 - x2)**2)\n",
    "\n",
    "def dist_ned(x1, x2):\n",
    "    d = 0\n",
    "    for k in range(0,num_features):\n",
    "        d = d+( ((x1[k] - x2[k])**2) / np.std(lsat_trainX[:,k]) )\n",
    "    return d\n",
    "\n",
    "# function to get input data point and target counterfactual class\n",
    "def get_params():\n",
    "    return [X_test[11], 0] # replace this with user-given inputs\n",
    "    \n",
    "\n",
    "def CF_fun(x, x1, y2, lam):\n",
    "    #[x1, y2] = get_params()\n",
    "    return (lam*(model.predict(np.array([x.tolist()]))[0] - y2)**2.0 + dist_ued(x1, x))\n"
   ]
  },
  {
   "cell_type": "code",
   "execution_count": 488,
   "metadata": {},
   "outputs": [
    {
     "data": {
      "text/plain": [
       "<tf.Tensor 'strided_slice_14:0' shape=(3,) dtype=float32>"
      ]
     },
     "execution_count": 488,
     "metadata": {},
     "output_type": "execute_result"
    }
   ],
   "source": [
    "model.input[1]"
   ]
  },
  {
   "cell_type": "code",
   "execution_count": 480,
   "metadata": {},
   "outputs": [
    {
     "data": {
      "text/plain": [
       "array([[ 3.2, 44. ,  0. ]])"
      ]
     },
     "execution_count": 480,
     "metadata": {},
     "output_type": "execute_result"
    }
   ],
   "source": [
    "np.array([lsat_trainX[p[0]]])"
   ]
  },
  {
   "cell_type": "code",
   "execution_count": 498,
   "metadata": {},
   "outputs": [
    {
     "data": {
      "text/plain": [
       "array([ 3.3, 28. ,  1. ])"
      ]
     },
     "execution_count": 498,
     "metadata": {},
     "output_type": "execute_result"
    }
   ],
   "source": [
    "my_test_cases[2]"
   ]
  },
  {
   "cell_type": "code",
   "execution_count": 518,
   "metadata": {},
   "outputs": [
    {
     "ename": "InvalidArgumentError",
     "evalue": "You must feed a value for placeholder tensor 'dense_67_input' with dtype float and shape [?,3]\n\t [[Node: dense_67_input = Placeholder[dtype=DT_FLOAT, shape=[?,3], _device=\"/job:localhost/replica:0/task:0/device:CPU:0\"]()]]\n\nCaused by op 'dense_67_input', defined at:\n  File \"C:\\Users\\t-rakomm\\AppData\\Local\\Continuum\\anaconda3\\lib\\runpy.py\", line 193, in _run_module_as_main\n    \"__main__\", mod_spec)\n  File \"C:\\Users\\t-rakomm\\AppData\\Local\\Continuum\\anaconda3\\lib\\runpy.py\", line 85, in _run_code\n    exec(code, run_globals)\n  File \"C:\\Users\\t-rakomm\\AppData\\Local\\Continuum\\anaconda3\\lib\\site-packages\\ipykernel_launcher.py\", line 16, in <module>\n    app.launch_new_instance()\n  File \"C:\\Users\\t-rakomm\\AppData\\Local\\Continuum\\anaconda3\\lib\\site-packages\\traitlets\\config\\application.py\", line 658, in launch_instance\n    app.start()\n  File \"C:\\Users\\t-rakomm\\AppData\\Local\\Continuum\\anaconda3\\lib\\site-packages\\ipykernel\\kernelapp.py\", line 486, in start\n    self.io_loop.start()\n  File \"C:\\Users\\t-rakomm\\AppData\\Local\\Continuum\\anaconda3\\lib\\site-packages\\tornado\\platform\\asyncio.py\", line 127, in start\n    self.asyncio_loop.run_forever()\n  File \"C:\\Users\\t-rakomm\\AppData\\Local\\Continuum\\anaconda3\\lib\\asyncio\\base_events.py\", line 422, in run_forever\n    self._run_once()\n  File \"C:\\Users\\t-rakomm\\AppData\\Local\\Continuum\\anaconda3\\lib\\asyncio\\base_events.py\", line 1432, in _run_once\n    handle._run()\n  File \"C:\\Users\\t-rakomm\\AppData\\Local\\Continuum\\anaconda3\\lib\\asyncio\\events.py\", line 145, in _run\n    self._callback(*self._args)\n  File \"C:\\Users\\t-rakomm\\AppData\\Local\\Continuum\\anaconda3\\lib\\site-packages\\tornado\\platform\\asyncio.py\", line 117, in _handle_events\n    handler_func(fileobj, events)\n  File \"C:\\Users\\t-rakomm\\AppData\\Local\\Continuum\\anaconda3\\lib\\site-packages\\tornado\\stack_context.py\", line 276, in null_wrapper\n    return fn(*args, **kwargs)\n  File \"C:\\Users\\t-rakomm\\AppData\\Local\\Continuum\\anaconda3\\lib\\site-packages\\zmq\\eventloop\\zmqstream.py\", line 450, in _handle_events\n    self._handle_recv()\n  File \"C:\\Users\\t-rakomm\\AppData\\Local\\Continuum\\anaconda3\\lib\\site-packages\\zmq\\eventloop\\zmqstream.py\", line 480, in _handle_recv\n    self._run_callback(callback, msg)\n  File \"C:\\Users\\t-rakomm\\AppData\\Local\\Continuum\\anaconda3\\lib\\site-packages\\zmq\\eventloop\\zmqstream.py\", line 432, in _run_callback\n    callback(*args, **kwargs)\n  File \"C:\\Users\\t-rakomm\\AppData\\Local\\Continuum\\anaconda3\\lib\\site-packages\\tornado\\stack_context.py\", line 276, in null_wrapper\n    return fn(*args, **kwargs)\n  File \"C:\\Users\\t-rakomm\\AppData\\Local\\Continuum\\anaconda3\\lib\\site-packages\\ipykernel\\kernelbase.py\", line 283, in dispatcher\n    return self.dispatch_shell(stream, msg)\n  File \"C:\\Users\\t-rakomm\\AppData\\Local\\Continuum\\anaconda3\\lib\\site-packages\\ipykernel\\kernelbase.py\", line 233, in dispatch_shell\n    handler(stream, idents, msg)\n  File \"C:\\Users\\t-rakomm\\AppData\\Local\\Continuum\\anaconda3\\lib\\site-packages\\ipykernel\\kernelbase.py\", line 399, in execute_request\n    user_expressions, allow_stdin)\n  File \"C:\\Users\\t-rakomm\\AppData\\Local\\Continuum\\anaconda3\\lib\\site-packages\\ipykernel\\ipkernel.py\", line 208, in do_execute\n    res = shell.run_cell(code, store_history=store_history, silent=silent)\n  File \"C:\\Users\\t-rakomm\\AppData\\Local\\Continuum\\anaconda3\\lib\\site-packages\\ipykernel\\zmqshell.py\", line 537, in run_cell\n    return super(ZMQInteractiveShell, self).run_cell(*args, **kwargs)\n  File \"C:\\Users\\t-rakomm\\AppData\\Local\\Continuum\\anaconda3\\lib\\site-packages\\IPython\\core\\interactiveshell.py\", line 2662, in run_cell\n    raw_cell, store_history, silent, shell_futures)\n  File \"C:\\Users\\t-rakomm\\AppData\\Local\\Continuum\\anaconda3\\lib\\site-packages\\IPython\\core\\interactiveshell.py\", line 2785, in _run_cell\n    interactivity=interactivity, compiler=compiler, result=result)\n  File \"C:\\Users\\t-rakomm\\AppData\\Local\\Continuum\\anaconda3\\lib\\site-packages\\IPython\\core\\interactiveshell.py\", line 2903, in run_ast_nodes\n    if self.run_code(code, result):\n  File \"C:\\Users\\t-rakomm\\AppData\\Local\\Continuum\\anaconda3\\lib\\site-packages\\IPython\\core\\interactiveshell.py\", line 2963, in run_code\n    exec(code_obj, self.user_global_ns, self.user_ns)\n  File \"<ipython-input-144-bcd90072fea1>\", line 7, in <module>\n    model.add(Dense(20, input_dim=3, kernel_initializer='normal', bias_initializer='zeros', activation='relu'))\n  File \"C:\\Users\\t-rakomm\\AppData\\Local\\Continuum\\anaconda3\\lib\\site-packages\\keras\\engine\\sequential.py\", line 162, in add\n    name=layer.name + '_input')\n  File \"C:\\Users\\t-rakomm\\AppData\\Local\\Continuum\\anaconda3\\lib\\site-packages\\keras\\engine\\input_layer.py\", line 176, in Input\n    input_tensor=tensor)\n  File \"C:\\Users\\t-rakomm\\AppData\\Local\\Continuum\\anaconda3\\lib\\site-packages\\keras\\legacy\\interfaces.py\", line 91, in wrapper\n    return func(*args, **kwargs)\n  File \"C:\\Users\\t-rakomm\\AppData\\Local\\Continuum\\anaconda3\\lib\\site-packages\\keras\\engine\\input_layer.py\", line 85, in __init__\n    name=self.name)\n  File \"C:\\Users\\t-rakomm\\AppData\\Local\\Continuum\\anaconda3\\lib\\site-packages\\keras\\backend\\tensorflow_backend.py\", line 514, in placeholder\n    x = tf.placeholder(dtype, shape=shape, name=name)\n  File \"C:\\Users\\t-rakomm\\AppData\\Local\\Continuum\\anaconda3\\lib\\site-packages\\tensorflow\\python\\ops\\array_ops.py\", line 1808, in placeholder\n    return gen_array_ops.placeholder(dtype=dtype, shape=shape, name=name)\n  File \"C:\\Users\\t-rakomm\\AppData\\Local\\Continuum\\anaconda3\\lib\\site-packages\\tensorflow\\python\\ops\\gen_array_ops.py\", line 5835, in placeholder\n    \"Placeholder\", dtype=dtype, shape=shape, name=name)\n  File \"C:\\Users\\t-rakomm\\AppData\\Local\\Continuum\\anaconda3\\lib\\site-packages\\tensorflow\\python\\framework\\op_def_library.py\", line 787, in _apply_op_helper\n    op_def=op_def)\n  File \"C:\\Users\\t-rakomm\\AppData\\Local\\Continuum\\anaconda3\\lib\\site-packages\\tensorflow\\python\\framework\\ops.py\", line 3392, in create_op\n    op_def=op_def)\n  File \"C:\\Users\\t-rakomm\\AppData\\Local\\Continuum\\anaconda3\\lib\\site-packages\\tensorflow\\python\\framework\\ops.py\", line 1718, in __init__\n    self._traceback = self._graph._extract_stack()  # pylint: disable=protected-access\n\nInvalidArgumentError (see above for traceback): You must feed a value for placeholder tensor 'dense_67_input' with dtype float and shape [?,3]\n\t [[Node: dense_67_input = Placeholder[dtype=DT_FLOAT, shape=[?,3], _device=\"/job:localhost/replica:0/task:0/device:CPU:0\"]()]]\n",
     "output_type": "error",
     "traceback": [
      "\u001b[1;31m---------------------------------------------------------------------------\u001b[0m",
      "\u001b[1;31mInvalidArgumentError\u001b[0m                      Traceback (most recent call last)",
      "\u001b[1;32m~\\AppData\\Local\\Continuum\\anaconda3\\lib\\site-packages\\tensorflow\\python\\client\\session.py\u001b[0m in \u001b[0;36m_do_call\u001b[1;34m(self, fn, *args)\u001b[0m\n\u001b[0;32m   1321\u001b[0m     \u001b[1;32mtry\u001b[0m\u001b[1;33m:\u001b[0m\u001b[1;33m\u001b[0m\u001b[0m\n\u001b[1;32m-> 1322\u001b[1;33m       \u001b[1;32mreturn\u001b[0m \u001b[0mfn\u001b[0m\u001b[1;33m(\u001b[0m\u001b[1;33m*\u001b[0m\u001b[0margs\u001b[0m\u001b[1;33m)\u001b[0m\u001b[1;33m\u001b[0m\u001b[0m\n\u001b[0m\u001b[0;32m   1323\u001b[0m     \u001b[1;32mexcept\u001b[0m \u001b[0merrors\u001b[0m\u001b[1;33m.\u001b[0m\u001b[0mOpError\u001b[0m \u001b[1;32mas\u001b[0m \u001b[0me\u001b[0m\u001b[1;33m:\u001b[0m\u001b[1;33m\u001b[0m\u001b[0m\n",
      "\u001b[1;32m~\\AppData\\Local\\Continuum\\anaconda3\\lib\\site-packages\\tensorflow\\python\\client\\session.py\u001b[0m in \u001b[0;36m_run_fn\u001b[1;34m(feed_dict, fetch_list, target_list, options, run_metadata)\u001b[0m\n\u001b[0;32m   1306\u001b[0m       return self._call_tf_sessionrun(\n\u001b[1;32m-> 1307\u001b[1;33m           options, feed_dict, fetch_list, target_list, run_metadata)\n\u001b[0m\u001b[0;32m   1308\u001b[0m \u001b[1;33m\u001b[0m\u001b[0m\n",
      "\u001b[1;32m~\\AppData\\Local\\Continuum\\anaconda3\\lib\\site-packages\\tensorflow\\python\\client\\session.py\u001b[0m in \u001b[0;36m_call_tf_sessionrun\u001b[1;34m(self, options, feed_dict, fetch_list, target_list, run_metadata)\u001b[0m\n\u001b[0;32m   1408\u001b[0m           \u001b[0mself\u001b[0m\u001b[1;33m.\u001b[0m\u001b[0m_session\u001b[0m\u001b[1;33m,\u001b[0m \u001b[0moptions\u001b[0m\u001b[1;33m,\u001b[0m \u001b[0mfeed_dict\u001b[0m\u001b[1;33m,\u001b[0m \u001b[0mfetch_list\u001b[0m\u001b[1;33m,\u001b[0m \u001b[0mtarget_list\u001b[0m\u001b[1;33m,\u001b[0m\u001b[1;33m\u001b[0m\u001b[0m\n\u001b[1;32m-> 1409\u001b[1;33m           run_metadata)\n\u001b[0m\u001b[0;32m   1410\u001b[0m     \u001b[1;32melse\u001b[0m\u001b[1;33m:\u001b[0m\u001b[1;33m\u001b[0m\u001b[0m\n",
      "\u001b[1;31mInvalidArgumentError\u001b[0m: You must feed a value for placeholder tensor 'dense_67_input' with dtype float and shape [?,3]\n\t [[Node: dense_67_input = Placeholder[dtype=DT_FLOAT, shape=[?,3], _device=\"/job:localhost/replica:0/task:0/device:CPU:0\"]()]]",
      "\nDuring handling of the above exception, another exception occurred:\n",
      "\u001b[1;31mInvalidArgumentError\u001b[0m                      Traceback (most recent call last)",
      "\u001b[1;32m<ipython-input-518-77802d9e7863>\u001b[0m in \u001b[0;36m<module>\u001b[1;34m()\u001b[0m\n\u001b[1;32m----> 1\u001b[1;33m \u001b[0mtf\u001b[0m\u001b[1;33m.\u001b[0m\u001b[0mSession\u001b[0m\u001b[1;33m(\u001b[0m\u001b[1;33m)\u001b[0m\u001b[1;33m.\u001b[0m\u001b[0mrun\u001b[0m\u001b[1;33m(\u001b[0m\u001b[0mgradients\u001b[0m\u001b[1;33m)\u001b[0m\u001b[1;33m\u001b[0m\u001b[0m\n\u001b[0m",
      "\u001b[1;32m~\\AppData\\Local\\Continuum\\anaconda3\\lib\\site-packages\\tensorflow\\python\\client\\session.py\u001b[0m in \u001b[0;36mrun\u001b[1;34m(self, fetches, feed_dict, options, run_metadata)\u001b[0m\n\u001b[0;32m    898\u001b[0m     \u001b[1;32mtry\u001b[0m\u001b[1;33m:\u001b[0m\u001b[1;33m\u001b[0m\u001b[0m\n\u001b[0;32m    899\u001b[0m       result = self._run(None, fetches, feed_dict, options_ptr,\n\u001b[1;32m--> 900\u001b[1;33m                          run_metadata_ptr)\n\u001b[0m\u001b[0;32m    901\u001b[0m       \u001b[1;32mif\u001b[0m \u001b[0mrun_metadata\u001b[0m\u001b[1;33m:\u001b[0m\u001b[1;33m\u001b[0m\u001b[0m\n\u001b[0;32m    902\u001b[0m         \u001b[0mproto_data\u001b[0m \u001b[1;33m=\u001b[0m \u001b[0mtf_session\u001b[0m\u001b[1;33m.\u001b[0m\u001b[0mTF_GetBuffer\u001b[0m\u001b[1;33m(\u001b[0m\u001b[0mrun_metadata_ptr\u001b[0m\u001b[1;33m)\u001b[0m\u001b[1;33m\u001b[0m\u001b[0m\n",
      "\u001b[1;32m~\\AppData\\Local\\Continuum\\anaconda3\\lib\\site-packages\\tensorflow\\python\\client\\session.py\u001b[0m in \u001b[0;36m_run\u001b[1;34m(self, handle, fetches, feed_dict, options, run_metadata)\u001b[0m\n\u001b[0;32m   1133\u001b[0m     \u001b[1;32mif\u001b[0m \u001b[0mfinal_fetches\u001b[0m \u001b[1;32mor\u001b[0m \u001b[0mfinal_targets\u001b[0m \u001b[1;32mor\u001b[0m \u001b[1;33m(\u001b[0m\u001b[0mhandle\u001b[0m \u001b[1;32mand\u001b[0m \u001b[0mfeed_dict_tensor\u001b[0m\u001b[1;33m)\u001b[0m\u001b[1;33m:\u001b[0m\u001b[1;33m\u001b[0m\u001b[0m\n\u001b[0;32m   1134\u001b[0m       results = self._do_run(handle, final_targets, final_fetches,\n\u001b[1;32m-> 1135\u001b[1;33m                              feed_dict_tensor, options, run_metadata)\n\u001b[0m\u001b[0;32m   1136\u001b[0m     \u001b[1;32melse\u001b[0m\u001b[1;33m:\u001b[0m\u001b[1;33m\u001b[0m\u001b[0m\n\u001b[0;32m   1137\u001b[0m       \u001b[0mresults\u001b[0m \u001b[1;33m=\u001b[0m \u001b[1;33m[\u001b[0m\u001b[1;33m]\u001b[0m\u001b[1;33m\u001b[0m\u001b[0m\n",
      "\u001b[1;32m~\\AppData\\Local\\Continuum\\anaconda3\\lib\\site-packages\\tensorflow\\python\\client\\session.py\u001b[0m in \u001b[0;36m_do_run\u001b[1;34m(self, handle, target_list, fetch_list, feed_dict, options, run_metadata)\u001b[0m\n\u001b[0;32m   1314\u001b[0m     \u001b[1;32mif\u001b[0m \u001b[0mhandle\u001b[0m \u001b[1;32mis\u001b[0m \u001b[1;32mNone\u001b[0m\u001b[1;33m:\u001b[0m\u001b[1;33m\u001b[0m\u001b[0m\n\u001b[0;32m   1315\u001b[0m       return self._do_call(_run_fn, feeds, fetches, targets, options,\n\u001b[1;32m-> 1316\u001b[1;33m                            run_metadata)\n\u001b[0m\u001b[0;32m   1317\u001b[0m     \u001b[1;32melse\u001b[0m\u001b[1;33m:\u001b[0m\u001b[1;33m\u001b[0m\u001b[0m\n\u001b[0;32m   1318\u001b[0m       \u001b[1;32mreturn\u001b[0m \u001b[0mself\u001b[0m\u001b[1;33m.\u001b[0m\u001b[0m_do_call\u001b[0m\u001b[1;33m(\u001b[0m\u001b[0m_prun_fn\u001b[0m\u001b[1;33m,\u001b[0m \u001b[0mhandle\u001b[0m\u001b[1;33m,\u001b[0m \u001b[0mfeeds\u001b[0m\u001b[1;33m,\u001b[0m \u001b[0mfetches\u001b[0m\u001b[1;33m)\u001b[0m\u001b[1;33m\u001b[0m\u001b[0m\n",
      "\u001b[1;32m~\\AppData\\Local\\Continuum\\anaconda3\\lib\\site-packages\\tensorflow\\python\\client\\session.py\u001b[0m in \u001b[0;36m_do_call\u001b[1;34m(self, fn, *args)\u001b[0m\n\u001b[0;32m   1333\u001b[0m         \u001b[1;32mexcept\u001b[0m \u001b[0mKeyError\u001b[0m\u001b[1;33m:\u001b[0m\u001b[1;33m\u001b[0m\u001b[0m\n\u001b[0;32m   1334\u001b[0m           \u001b[1;32mpass\u001b[0m\u001b[1;33m\u001b[0m\u001b[0m\n\u001b[1;32m-> 1335\u001b[1;33m       \u001b[1;32mraise\u001b[0m \u001b[0mtype\u001b[0m\u001b[1;33m(\u001b[0m\u001b[0me\u001b[0m\u001b[1;33m)\u001b[0m\u001b[1;33m(\u001b[0m\u001b[0mnode_def\u001b[0m\u001b[1;33m,\u001b[0m \u001b[0mop\u001b[0m\u001b[1;33m,\u001b[0m \u001b[0mmessage\u001b[0m\u001b[1;33m)\u001b[0m\u001b[1;33m\u001b[0m\u001b[0m\n\u001b[0m\u001b[0;32m   1336\u001b[0m \u001b[1;33m\u001b[0m\u001b[0m\n\u001b[0;32m   1337\u001b[0m   \u001b[1;32mdef\u001b[0m \u001b[0m_extend_graph\u001b[0m\u001b[1;33m(\u001b[0m\u001b[0mself\u001b[0m\u001b[1;33m)\u001b[0m\u001b[1;33m:\u001b[0m\u001b[1;33m\u001b[0m\u001b[0m\n",
      "\u001b[1;31mInvalidArgumentError\u001b[0m: You must feed a value for placeholder tensor 'dense_67_input' with dtype float and shape [?,3]\n\t [[Node: dense_67_input = Placeholder[dtype=DT_FLOAT, shape=[?,3], _device=\"/job:localhost/replica:0/task:0/device:CPU:0\"]()]]\n\nCaused by op 'dense_67_input', defined at:\n  File \"C:\\Users\\t-rakomm\\AppData\\Local\\Continuum\\anaconda3\\lib\\runpy.py\", line 193, in _run_module_as_main\n    \"__main__\", mod_spec)\n  File \"C:\\Users\\t-rakomm\\AppData\\Local\\Continuum\\anaconda3\\lib\\runpy.py\", line 85, in _run_code\n    exec(code, run_globals)\n  File \"C:\\Users\\t-rakomm\\AppData\\Local\\Continuum\\anaconda3\\lib\\site-packages\\ipykernel_launcher.py\", line 16, in <module>\n    app.launch_new_instance()\n  File \"C:\\Users\\t-rakomm\\AppData\\Local\\Continuum\\anaconda3\\lib\\site-packages\\traitlets\\config\\application.py\", line 658, in launch_instance\n    app.start()\n  File \"C:\\Users\\t-rakomm\\AppData\\Local\\Continuum\\anaconda3\\lib\\site-packages\\ipykernel\\kernelapp.py\", line 486, in start\n    self.io_loop.start()\n  File \"C:\\Users\\t-rakomm\\AppData\\Local\\Continuum\\anaconda3\\lib\\site-packages\\tornado\\platform\\asyncio.py\", line 127, in start\n    self.asyncio_loop.run_forever()\n  File \"C:\\Users\\t-rakomm\\AppData\\Local\\Continuum\\anaconda3\\lib\\asyncio\\base_events.py\", line 422, in run_forever\n    self._run_once()\n  File \"C:\\Users\\t-rakomm\\AppData\\Local\\Continuum\\anaconda3\\lib\\asyncio\\base_events.py\", line 1432, in _run_once\n    handle._run()\n  File \"C:\\Users\\t-rakomm\\AppData\\Local\\Continuum\\anaconda3\\lib\\asyncio\\events.py\", line 145, in _run\n    self._callback(*self._args)\n  File \"C:\\Users\\t-rakomm\\AppData\\Local\\Continuum\\anaconda3\\lib\\site-packages\\tornado\\platform\\asyncio.py\", line 117, in _handle_events\n    handler_func(fileobj, events)\n  File \"C:\\Users\\t-rakomm\\AppData\\Local\\Continuum\\anaconda3\\lib\\site-packages\\tornado\\stack_context.py\", line 276, in null_wrapper\n    return fn(*args, **kwargs)\n  File \"C:\\Users\\t-rakomm\\AppData\\Local\\Continuum\\anaconda3\\lib\\site-packages\\zmq\\eventloop\\zmqstream.py\", line 450, in _handle_events\n    self._handle_recv()\n  File \"C:\\Users\\t-rakomm\\AppData\\Local\\Continuum\\anaconda3\\lib\\site-packages\\zmq\\eventloop\\zmqstream.py\", line 480, in _handle_recv\n    self._run_callback(callback, msg)\n  File \"C:\\Users\\t-rakomm\\AppData\\Local\\Continuum\\anaconda3\\lib\\site-packages\\zmq\\eventloop\\zmqstream.py\", line 432, in _run_callback\n    callback(*args, **kwargs)\n  File \"C:\\Users\\t-rakomm\\AppData\\Local\\Continuum\\anaconda3\\lib\\site-packages\\tornado\\stack_context.py\", line 276, in null_wrapper\n    return fn(*args, **kwargs)\n  File \"C:\\Users\\t-rakomm\\AppData\\Local\\Continuum\\anaconda3\\lib\\site-packages\\ipykernel\\kernelbase.py\", line 283, in dispatcher\n    return self.dispatch_shell(stream, msg)\n  File \"C:\\Users\\t-rakomm\\AppData\\Local\\Continuum\\anaconda3\\lib\\site-packages\\ipykernel\\kernelbase.py\", line 233, in dispatch_shell\n    handler(stream, idents, msg)\n  File \"C:\\Users\\t-rakomm\\AppData\\Local\\Continuum\\anaconda3\\lib\\site-packages\\ipykernel\\kernelbase.py\", line 399, in execute_request\n    user_expressions, allow_stdin)\n  File \"C:\\Users\\t-rakomm\\AppData\\Local\\Continuum\\anaconda3\\lib\\site-packages\\ipykernel\\ipkernel.py\", line 208, in do_execute\n    res = shell.run_cell(code, store_history=store_history, silent=silent)\n  File \"C:\\Users\\t-rakomm\\AppData\\Local\\Continuum\\anaconda3\\lib\\site-packages\\ipykernel\\zmqshell.py\", line 537, in run_cell\n    return super(ZMQInteractiveShell, self).run_cell(*args, **kwargs)\n  File \"C:\\Users\\t-rakomm\\AppData\\Local\\Continuum\\anaconda3\\lib\\site-packages\\IPython\\core\\interactiveshell.py\", line 2662, in run_cell\n    raw_cell, store_history, silent, shell_futures)\n  File \"C:\\Users\\t-rakomm\\AppData\\Local\\Continuum\\anaconda3\\lib\\site-packages\\IPython\\core\\interactiveshell.py\", line 2785, in _run_cell\n    interactivity=interactivity, compiler=compiler, result=result)\n  File \"C:\\Users\\t-rakomm\\AppData\\Local\\Continuum\\anaconda3\\lib\\site-packages\\IPython\\core\\interactiveshell.py\", line 2903, in run_ast_nodes\n    if self.run_code(code, result):\n  File \"C:\\Users\\t-rakomm\\AppData\\Local\\Continuum\\anaconda3\\lib\\site-packages\\IPython\\core\\interactiveshell.py\", line 2963, in run_code\n    exec(code_obj, self.user_global_ns, self.user_ns)\n  File \"<ipython-input-144-bcd90072fea1>\", line 7, in <module>\n    model.add(Dense(20, input_dim=3, kernel_initializer='normal', bias_initializer='zeros', activation='relu'))\n  File \"C:\\Users\\t-rakomm\\AppData\\Local\\Continuum\\anaconda3\\lib\\site-packages\\keras\\engine\\sequential.py\", line 162, in add\n    name=layer.name + '_input')\n  File \"C:\\Users\\t-rakomm\\AppData\\Local\\Continuum\\anaconda3\\lib\\site-packages\\keras\\engine\\input_layer.py\", line 176, in Input\n    input_tensor=tensor)\n  File \"C:\\Users\\t-rakomm\\AppData\\Local\\Continuum\\anaconda3\\lib\\site-packages\\keras\\legacy\\interfaces.py\", line 91, in wrapper\n    return func(*args, **kwargs)\n  File \"C:\\Users\\t-rakomm\\AppData\\Local\\Continuum\\anaconda3\\lib\\site-packages\\keras\\engine\\input_layer.py\", line 85, in __init__\n    name=self.name)\n  File \"C:\\Users\\t-rakomm\\AppData\\Local\\Continuum\\anaconda3\\lib\\site-packages\\keras\\backend\\tensorflow_backend.py\", line 514, in placeholder\n    x = tf.placeholder(dtype, shape=shape, name=name)\n  File \"C:\\Users\\t-rakomm\\AppData\\Local\\Continuum\\anaconda3\\lib\\site-packages\\tensorflow\\python\\ops\\array_ops.py\", line 1808, in placeholder\n    return gen_array_ops.placeholder(dtype=dtype, shape=shape, name=name)\n  File \"C:\\Users\\t-rakomm\\AppData\\Local\\Continuum\\anaconda3\\lib\\site-packages\\tensorflow\\python\\ops\\gen_array_ops.py\", line 5835, in placeholder\n    \"Placeholder\", dtype=dtype, shape=shape, name=name)\n  File \"C:\\Users\\t-rakomm\\AppData\\Local\\Continuum\\anaconda3\\lib\\site-packages\\tensorflow\\python\\framework\\op_def_library.py\", line 787, in _apply_op_helper\n    op_def=op_def)\n  File \"C:\\Users\\t-rakomm\\AppData\\Local\\Continuum\\anaconda3\\lib\\site-packages\\tensorflow\\python\\framework\\ops.py\", line 3392, in create_op\n    op_def=op_def)\n  File \"C:\\Users\\t-rakomm\\AppData\\Local\\Continuum\\anaconda3\\lib\\site-packages\\tensorflow\\python\\framework\\ops.py\", line 1718, in __init__\n    self._traceback = self._graph._extract_stack()  # pylint: disable=protected-access\n\nInvalidArgumentError (see above for traceback): You must feed a value for placeholder tensor 'dense_67_input' with dtype float and shape [?,3]\n\t [[Node: dense_67_input = Placeholder[dtype=DT_FLOAT, shape=[?,3], _device=\"/job:localhost/replica:0/task:0/device:CPU:0\"]()]]\n"
     ]
    }
   ],
   "source": [
    "tf.Session().run(gradients)"
   ]
  },
  {
   "cell_type": "code",
   "execution_count": null,
   "metadata": {},
   "outputs": [],
   "source": [
    "np.random.rand()"
   ]
  },
  {
   "cell_type": "raw",
   "metadata": {},
   "source": []
  },
  {
   "cell_type": "code",
   "execution_count": 503,
   "metadata": {},
   "outputs": [
    {
     "ename": "InvalidArgumentError",
     "evalue": "You must feed a value for placeholder tensor 'dense_67_input' with dtype float and shape [?,3]\n\t [[Node: dense_67_input = Placeholder[dtype=DT_FLOAT, shape=[?,3], _device=\"/job:localhost/replica:0/task:0/device:CPU:0\"]()]]\n\nCaused by op 'dense_67_input', defined at:\n  File \"C:\\Users\\t-rakomm\\AppData\\Local\\Continuum\\anaconda3\\lib\\runpy.py\", line 193, in _run_module_as_main\n    \"__main__\", mod_spec)\n  File \"C:\\Users\\t-rakomm\\AppData\\Local\\Continuum\\anaconda3\\lib\\runpy.py\", line 85, in _run_code\n    exec(code, run_globals)\n  File \"C:\\Users\\t-rakomm\\AppData\\Local\\Continuum\\anaconda3\\lib\\site-packages\\ipykernel_launcher.py\", line 16, in <module>\n    app.launch_new_instance()\n  File \"C:\\Users\\t-rakomm\\AppData\\Local\\Continuum\\anaconda3\\lib\\site-packages\\traitlets\\config\\application.py\", line 658, in launch_instance\n    app.start()\n  File \"C:\\Users\\t-rakomm\\AppData\\Local\\Continuum\\anaconda3\\lib\\site-packages\\ipykernel\\kernelapp.py\", line 486, in start\n    self.io_loop.start()\n  File \"C:\\Users\\t-rakomm\\AppData\\Local\\Continuum\\anaconda3\\lib\\site-packages\\tornado\\platform\\asyncio.py\", line 127, in start\n    self.asyncio_loop.run_forever()\n  File \"C:\\Users\\t-rakomm\\AppData\\Local\\Continuum\\anaconda3\\lib\\asyncio\\base_events.py\", line 422, in run_forever\n    self._run_once()\n  File \"C:\\Users\\t-rakomm\\AppData\\Local\\Continuum\\anaconda3\\lib\\asyncio\\base_events.py\", line 1432, in _run_once\n    handle._run()\n  File \"C:\\Users\\t-rakomm\\AppData\\Local\\Continuum\\anaconda3\\lib\\asyncio\\events.py\", line 145, in _run\n    self._callback(*self._args)\n  File \"C:\\Users\\t-rakomm\\AppData\\Local\\Continuum\\anaconda3\\lib\\site-packages\\tornado\\platform\\asyncio.py\", line 117, in _handle_events\n    handler_func(fileobj, events)\n  File \"C:\\Users\\t-rakomm\\AppData\\Local\\Continuum\\anaconda3\\lib\\site-packages\\tornado\\stack_context.py\", line 276, in null_wrapper\n    return fn(*args, **kwargs)\n  File \"C:\\Users\\t-rakomm\\AppData\\Local\\Continuum\\anaconda3\\lib\\site-packages\\zmq\\eventloop\\zmqstream.py\", line 450, in _handle_events\n    self._handle_recv()\n  File \"C:\\Users\\t-rakomm\\AppData\\Local\\Continuum\\anaconda3\\lib\\site-packages\\zmq\\eventloop\\zmqstream.py\", line 480, in _handle_recv\n    self._run_callback(callback, msg)\n  File \"C:\\Users\\t-rakomm\\AppData\\Local\\Continuum\\anaconda3\\lib\\site-packages\\zmq\\eventloop\\zmqstream.py\", line 432, in _run_callback\n    callback(*args, **kwargs)\n  File \"C:\\Users\\t-rakomm\\AppData\\Local\\Continuum\\anaconda3\\lib\\site-packages\\tornado\\stack_context.py\", line 276, in null_wrapper\n    return fn(*args, **kwargs)\n  File \"C:\\Users\\t-rakomm\\AppData\\Local\\Continuum\\anaconda3\\lib\\site-packages\\ipykernel\\kernelbase.py\", line 283, in dispatcher\n    return self.dispatch_shell(stream, msg)\n  File \"C:\\Users\\t-rakomm\\AppData\\Local\\Continuum\\anaconda3\\lib\\site-packages\\ipykernel\\kernelbase.py\", line 233, in dispatch_shell\n    handler(stream, idents, msg)\n  File \"C:\\Users\\t-rakomm\\AppData\\Local\\Continuum\\anaconda3\\lib\\site-packages\\ipykernel\\kernelbase.py\", line 399, in execute_request\n    user_expressions, allow_stdin)\n  File \"C:\\Users\\t-rakomm\\AppData\\Local\\Continuum\\anaconda3\\lib\\site-packages\\ipykernel\\ipkernel.py\", line 208, in do_execute\n    res = shell.run_cell(code, store_history=store_history, silent=silent)\n  File \"C:\\Users\\t-rakomm\\AppData\\Local\\Continuum\\anaconda3\\lib\\site-packages\\ipykernel\\zmqshell.py\", line 537, in run_cell\n    return super(ZMQInteractiveShell, self).run_cell(*args, **kwargs)\n  File \"C:\\Users\\t-rakomm\\AppData\\Local\\Continuum\\anaconda3\\lib\\site-packages\\IPython\\core\\interactiveshell.py\", line 2662, in run_cell\n    raw_cell, store_history, silent, shell_futures)\n  File \"C:\\Users\\t-rakomm\\AppData\\Local\\Continuum\\anaconda3\\lib\\site-packages\\IPython\\core\\interactiveshell.py\", line 2785, in _run_cell\n    interactivity=interactivity, compiler=compiler, result=result)\n  File \"C:\\Users\\t-rakomm\\AppData\\Local\\Continuum\\anaconda3\\lib\\site-packages\\IPython\\core\\interactiveshell.py\", line 2903, in run_ast_nodes\n    if self.run_code(code, result):\n  File \"C:\\Users\\t-rakomm\\AppData\\Local\\Continuum\\anaconda3\\lib\\site-packages\\IPython\\core\\interactiveshell.py\", line 2963, in run_code\n    exec(code_obj, self.user_global_ns, self.user_ns)\n  File \"<ipython-input-144-bcd90072fea1>\", line 7, in <module>\n    model.add(Dense(20, input_dim=3, kernel_initializer='normal', bias_initializer='zeros', activation='relu'))\n  File \"C:\\Users\\t-rakomm\\AppData\\Local\\Continuum\\anaconda3\\lib\\site-packages\\keras\\engine\\sequential.py\", line 162, in add\n    name=layer.name + '_input')\n  File \"C:\\Users\\t-rakomm\\AppData\\Local\\Continuum\\anaconda3\\lib\\site-packages\\keras\\engine\\input_layer.py\", line 176, in Input\n    input_tensor=tensor)\n  File \"C:\\Users\\t-rakomm\\AppData\\Local\\Continuum\\anaconda3\\lib\\site-packages\\keras\\legacy\\interfaces.py\", line 91, in wrapper\n    return func(*args, **kwargs)\n  File \"C:\\Users\\t-rakomm\\AppData\\Local\\Continuum\\anaconda3\\lib\\site-packages\\keras\\engine\\input_layer.py\", line 85, in __init__\n    name=self.name)\n  File \"C:\\Users\\t-rakomm\\AppData\\Local\\Continuum\\anaconda3\\lib\\site-packages\\keras\\backend\\tensorflow_backend.py\", line 514, in placeholder\n    x = tf.placeholder(dtype, shape=shape, name=name)\n  File \"C:\\Users\\t-rakomm\\AppData\\Local\\Continuum\\anaconda3\\lib\\site-packages\\tensorflow\\python\\ops\\array_ops.py\", line 1808, in placeholder\n    return gen_array_ops.placeholder(dtype=dtype, shape=shape, name=name)\n  File \"C:\\Users\\t-rakomm\\AppData\\Local\\Continuum\\anaconda3\\lib\\site-packages\\tensorflow\\python\\ops\\gen_array_ops.py\", line 5835, in placeholder\n    \"Placeholder\", dtype=dtype, shape=shape, name=name)\n  File \"C:\\Users\\t-rakomm\\AppData\\Local\\Continuum\\anaconda3\\lib\\site-packages\\tensorflow\\python\\framework\\op_def_library.py\", line 787, in _apply_op_helper\n    op_def=op_def)\n  File \"C:\\Users\\t-rakomm\\AppData\\Local\\Continuum\\anaconda3\\lib\\site-packages\\tensorflow\\python\\framework\\ops.py\", line 3392, in create_op\n    op_def=op_def)\n  File \"C:\\Users\\t-rakomm\\AppData\\Local\\Continuum\\anaconda3\\lib\\site-packages\\tensorflow\\python\\framework\\ops.py\", line 1718, in __init__\n    self._traceback = self._graph._extract_stack()  # pylint: disable=protected-access\n\nInvalidArgumentError (see above for traceback): You must feed a value for placeholder tensor 'dense_67_input' with dtype float and shape [?,3]\n\t [[Node: dense_67_input = Placeholder[dtype=DT_FLOAT, shape=[?,3], _device=\"/job:localhost/replica:0/task:0/device:CPU:0\"]()]]\n",
     "output_type": "error",
     "traceback": [
      "\u001b[1;31m---------------------------------------------------------------------------\u001b[0m",
      "\u001b[1;31mInvalidArgumentError\u001b[0m                      Traceback (most recent call last)",
      "\u001b[1;32m~\\AppData\\Local\\Continuum\\anaconda3\\lib\\site-packages\\tensorflow\\python\\client\\session.py\u001b[0m in \u001b[0;36m_do_call\u001b[1;34m(self, fn, *args)\u001b[0m\n\u001b[0;32m   1321\u001b[0m     \u001b[1;32mtry\u001b[0m\u001b[1;33m:\u001b[0m\u001b[1;33m\u001b[0m\u001b[0m\n\u001b[1;32m-> 1322\u001b[1;33m       \u001b[1;32mreturn\u001b[0m \u001b[0mfn\u001b[0m\u001b[1;33m(\u001b[0m\u001b[1;33m*\u001b[0m\u001b[0margs\u001b[0m\u001b[1;33m)\u001b[0m\u001b[1;33m\u001b[0m\u001b[0m\n\u001b[0m\u001b[0;32m   1323\u001b[0m     \u001b[1;32mexcept\u001b[0m \u001b[0merrors\u001b[0m\u001b[1;33m.\u001b[0m\u001b[0mOpError\u001b[0m \u001b[1;32mas\u001b[0m \u001b[0me\u001b[0m\u001b[1;33m:\u001b[0m\u001b[1;33m\u001b[0m\u001b[0m\n",
      "\u001b[1;32m~\\AppData\\Local\\Continuum\\anaconda3\\lib\\site-packages\\tensorflow\\python\\client\\session.py\u001b[0m in \u001b[0;36m_run_fn\u001b[1;34m(feed_dict, fetch_list, target_list, options, run_metadata)\u001b[0m\n\u001b[0;32m   1306\u001b[0m       return self._call_tf_sessionrun(\n\u001b[1;32m-> 1307\u001b[1;33m           options, feed_dict, fetch_list, target_list, run_metadata)\n\u001b[0m\u001b[0;32m   1308\u001b[0m \u001b[1;33m\u001b[0m\u001b[0m\n",
      "\u001b[1;32m~\\AppData\\Local\\Continuum\\anaconda3\\lib\\site-packages\\tensorflow\\python\\client\\session.py\u001b[0m in \u001b[0;36m_call_tf_sessionrun\u001b[1;34m(self, options, feed_dict, fetch_list, target_list, run_metadata)\u001b[0m\n\u001b[0;32m   1408\u001b[0m           \u001b[0mself\u001b[0m\u001b[1;33m.\u001b[0m\u001b[0m_session\u001b[0m\u001b[1;33m,\u001b[0m \u001b[0moptions\u001b[0m\u001b[1;33m,\u001b[0m \u001b[0mfeed_dict\u001b[0m\u001b[1;33m,\u001b[0m \u001b[0mfetch_list\u001b[0m\u001b[1;33m,\u001b[0m \u001b[0mtarget_list\u001b[0m\u001b[1;33m,\u001b[0m\u001b[1;33m\u001b[0m\u001b[0m\n\u001b[1;32m-> 1409\u001b[1;33m           run_metadata)\n\u001b[0m\u001b[0;32m   1410\u001b[0m     \u001b[1;32melse\u001b[0m\u001b[1;33m:\u001b[0m\u001b[1;33m\u001b[0m\u001b[0m\n",
      "\u001b[1;31mInvalidArgumentError\u001b[0m: You must feed a value for placeholder tensor 'dense_67_input' with dtype float and shape [?,3]\n\t [[Node: dense_67_input = Placeholder[dtype=DT_FLOAT, shape=[?,3], _device=\"/job:localhost/replica:0/task:0/device:CPU:0\"]()]]",
      "\nDuring handling of the above exception, another exception occurred:\n",
      "\u001b[1;31mInvalidArgumentError\u001b[0m                      Traceback (most recent call last)",
      "\u001b[1;32m<ipython-input-503-34a8b052835d>\u001b[0m in \u001b[0;36m<module>\u001b[1;34m()\u001b[0m\n\u001b[0;32m      2\u001b[0m \u001b[1;32mwith\u001b[0m \u001b[0mtf\u001b[0m\u001b[1;33m.\u001b[0m\u001b[0mSession\u001b[0m\u001b[1;33m(\u001b[0m\u001b[1;33m)\u001b[0m \u001b[1;32mas\u001b[0m \u001b[0msess\u001b[0m\u001b[1;33m:\u001b[0m\u001b[1;33m\u001b[0m\u001b[0m\n\u001b[0;32m      3\u001b[0m     \u001b[0msess\u001b[0m\u001b[1;33m.\u001b[0m\u001b[0mrun\u001b[0m\u001b[1;33m(\u001b[0m\u001b[0mtf\u001b[0m\u001b[1;33m.\u001b[0m\u001b[0mglobal_variables_initializer\u001b[0m\u001b[1;33m(\u001b[0m\u001b[1;33m)\u001b[0m\u001b[1;33m)\u001b[0m\u001b[1;33m\u001b[0m\u001b[0m\n\u001b[1;32m----> 4\u001b[1;33m     \u001b[0mprint\u001b[0m\u001b[1;33m(\u001b[0m\u001b[0msess\u001b[0m\u001b[1;33m.\u001b[0m\u001b[0mrun\u001b[0m\u001b[1;33m(\u001b[0m\u001b[0mgradients\u001b[0m\u001b[1;33m)\u001b[0m\u001b[1;33m)\u001b[0m\u001b[1;33m\u001b[0m\u001b[0m\n\u001b[0m",
      "\u001b[1;32m~\\AppData\\Local\\Continuum\\anaconda3\\lib\\site-packages\\tensorflow\\python\\client\\session.py\u001b[0m in \u001b[0;36mrun\u001b[1;34m(self, fetches, feed_dict, options, run_metadata)\u001b[0m\n\u001b[0;32m    898\u001b[0m     \u001b[1;32mtry\u001b[0m\u001b[1;33m:\u001b[0m\u001b[1;33m\u001b[0m\u001b[0m\n\u001b[0;32m    899\u001b[0m       result = self._run(None, fetches, feed_dict, options_ptr,\n\u001b[1;32m--> 900\u001b[1;33m                          run_metadata_ptr)\n\u001b[0m\u001b[0;32m    901\u001b[0m       \u001b[1;32mif\u001b[0m \u001b[0mrun_metadata\u001b[0m\u001b[1;33m:\u001b[0m\u001b[1;33m\u001b[0m\u001b[0m\n\u001b[0;32m    902\u001b[0m         \u001b[0mproto_data\u001b[0m \u001b[1;33m=\u001b[0m \u001b[0mtf_session\u001b[0m\u001b[1;33m.\u001b[0m\u001b[0mTF_GetBuffer\u001b[0m\u001b[1;33m(\u001b[0m\u001b[0mrun_metadata_ptr\u001b[0m\u001b[1;33m)\u001b[0m\u001b[1;33m\u001b[0m\u001b[0m\n",
      "\u001b[1;32m~\\AppData\\Local\\Continuum\\anaconda3\\lib\\site-packages\\tensorflow\\python\\client\\session.py\u001b[0m in \u001b[0;36m_run\u001b[1;34m(self, handle, fetches, feed_dict, options, run_metadata)\u001b[0m\n\u001b[0;32m   1133\u001b[0m     \u001b[1;32mif\u001b[0m \u001b[0mfinal_fetches\u001b[0m \u001b[1;32mor\u001b[0m \u001b[0mfinal_targets\u001b[0m \u001b[1;32mor\u001b[0m \u001b[1;33m(\u001b[0m\u001b[0mhandle\u001b[0m \u001b[1;32mand\u001b[0m \u001b[0mfeed_dict_tensor\u001b[0m\u001b[1;33m)\u001b[0m\u001b[1;33m:\u001b[0m\u001b[1;33m\u001b[0m\u001b[0m\n\u001b[0;32m   1134\u001b[0m       results = self._do_run(handle, final_targets, final_fetches,\n\u001b[1;32m-> 1135\u001b[1;33m                              feed_dict_tensor, options, run_metadata)\n\u001b[0m\u001b[0;32m   1136\u001b[0m     \u001b[1;32melse\u001b[0m\u001b[1;33m:\u001b[0m\u001b[1;33m\u001b[0m\u001b[0m\n\u001b[0;32m   1137\u001b[0m       \u001b[0mresults\u001b[0m \u001b[1;33m=\u001b[0m \u001b[1;33m[\u001b[0m\u001b[1;33m]\u001b[0m\u001b[1;33m\u001b[0m\u001b[0m\n",
      "\u001b[1;32m~\\AppData\\Local\\Continuum\\anaconda3\\lib\\site-packages\\tensorflow\\python\\client\\session.py\u001b[0m in \u001b[0;36m_do_run\u001b[1;34m(self, handle, target_list, fetch_list, feed_dict, options, run_metadata)\u001b[0m\n\u001b[0;32m   1314\u001b[0m     \u001b[1;32mif\u001b[0m \u001b[0mhandle\u001b[0m \u001b[1;32mis\u001b[0m \u001b[1;32mNone\u001b[0m\u001b[1;33m:\u001b[0m\u001b[1;33m\u001b[0m\u001b[0m\n\u001b[0;32m   1315\u001b[0m       return self._do_call(_run_fn, feeds, fetches, targets, options,\n\u001b[1;32m-> 1316\u001b[1;33m                            run_metadata)\n\u001b[0m\u001b[0;32m   1317\u001b[0m     \u001b[1;32melse\u001b[0m\u001b[1;33m:\u001b[0m\u001b[1;33m\u001b[0m\u001b[0m\n\u001b[0;32m   1318\u001b[0m       \u001b[1;32mreturn\u001b[0m \u001b[0mself\u001b[0m\u001b[1;33m.\u001b[0m\u001b[0m_do_call\u001b[0m\u001b[1;33m(\u001b[0m\u001b[0m_prun_fn\u001b[0m\u001b[1;33m,\u001b[0m \u001b[0mhandle\u001b[0m\u001b[1;33m,\u001b[0m \u001b[0mfeeds\u001b[0m\u001b[1;33m,\u001b[0m \u001b[0mfetches\u001b[0m\u001b[1;33m)\u001b[0m\u001b[1;33m\u001b[0m\u001b[0m\n",
      "\u001b[1;32m~\\AppData\\Local\\Continuum\\anaconda3\\lib\\site-packages\\tensorflow\\python\\client\\session.py\u001b[0m in \u001b[0;36m_do_call\u001b[1;34m(self, fn, *args)\u001b[0m\n\u001b[0;32m   1333\u001b[0m         \u001b[1;32mexcept\u001b[0m \u001b[0mKeyError\u001b[0m\u001b[1;33m:\u001b[0m\u001b[1;33m\u001b[0m\u001b[0m\n\u001b[0;32m   1334\u001b[0m           \u001b[1;32mpass\u001b[0m\u001b[1;33m\u001b[0m\u001b[0m\n\u001b[1;32m-> 1335\u001b[1;33m       \u001b[1;32mraise\u001b[0m \u001b[0mtype\u001b[0m\u001b[1;33m(\u001b[0m\u001b[0me\u001b[0m\u001b[1;33m)\u001b[0m\u001b[1;33m(\u001b[0m\u001b[0mnode_def\u001b[0m\u001b[1;33m,\u001b[0m \u001b[0mop\u001b[0m\u001b[1;33m,\u001b[0m \u001b[0mmessage\u001b[0m\u001b[1;33m)\u001b[0m\u001b[1;33m\u001b[0m\u001b[0m\n\u001b[0m\u001b[0;32m   1336\u001b[0m \u001b[1;33m\u001b[0m\u001b[0m\n\u001b[0;32m   1337\u001b[0m   \u001b[1;32mdef\u001b[0m \u001b[0m_extend_graph\u001b[0m\u001b[1;33m(\u001b[0m\u001b[0mself\u001b[0m\u001b[1;33m)\u001b[0m\u001b[1;33m:\u001b[0m\u001b[1;33m\u001b[0m\u001b[0m\n",
      "\u001b[1;31mInvalidArgumentError\u001b[0m: You must feed a value for placeholder tensor 'dense_67_input' with dtype float and shape [?,3]\n\t [[Node: dense_67_input = Placeholder[dtype=DT_FLOAT, shape=[?,3], _device=\"/job:localhost/replica:0/task:0/device:CPU:0\"]()]]\n\nCaused by op 'dense_67_input', defined at:\n  File \"C:\\Users\\t-rakomm\\AppData\\Local\\Continuum\\anaconda3\\lib\\runpy.py\", line 193, in _run_module_as_main\n    \"__main__\", mod_spec)\n  File \"C:\\Users\\t-rakomm\\AppData\\Local\\Continuum\\anaconda3\\lib\\runpy.py\", line 85, in _run_code\n    exec(code, run_globals)\n  File \"C:\\Users\\t-rakomm\\AppData\\Local\\Continuum\\anaconda3\\lib\\site-packages\\ipykernel_launcher.py\", line 16, in <module>\n    app.launch_new_instance()\n  File \"C:\\Users\\t-rakomm\\AppData\\Local\\Continuum\\anaconda3\\lib\\site-packages\\traitlets\\config\\application.py\", line 658, in launch_instance\n    app.start()\n  File \"C:\\Users\\t-rakomm\\AppData\\Local\\Continuum\\anaconda3\\lib\\site-packages\\ipykernel\\kernelapp.py\", line 486, in start\n    self.io_loop.start()\n  File \"C:\\Users\\t-rakomm\\AppData\\Local\\Continuum\\anaconda3\\lib\\site-packages\\tornado\\platform\\asyncio.py\", line 127, in start\n    self.asyncio_loop.run_forever()\n  File \"C:\\Users\\t-rakomm\\AppData\\Local\\Continuum\\anaconda3\\lib\\asyncio\\base_events.py\", line 422, in run_forever\n    self._run_once()\n  File \"C:\\Users\\t-rakomm\\AppData\\Local\\Continuum\\anaconda3\\lib\\asyncio\\base_events.py\", line 1432, in _run_once\n    handle._run()\n  File \"C:\\Users\\t-rakomm\\AppData\\Local\\Continuum\\anaconda3\\lib\\asyncio\\events.py\", line 145, in _run\n    self._callback(*self._args)\n  File \"C:\\Users\\t-rakomm\\AppData\\Local\\Continuum\\anaconda3\\lib\\site-packages\\tornado\\platform\\asyncio.py\", line 117, in _handle_events\n    handler_func(fileobj, events)\n  File \"C:\\Users\\t-rakomm\\AppData\\Local\\Continuum\\anaconda3\\lib\\site-packages\\tornado\\stack_context.py\", line 276, in null_wrapper\n    return fn(*args, **kwargs)\n  File \"C:\\Users\\t-rakomm\\AppData\\Local\\Continuum\\anaconda3\\lib\\site-packages\\zmq\\eventloop\\zmqstream.py\", line 450, in _handle_events\n    self._handle_recv()\n  File \"C:\\Users\\t-rakomm\\AppData\\Local\\Continuum\\anaconda3\\lib\\site-packages\\zmq\\eventloop\\zmqstream.py\", line 480, in _handle_recv\n    self._run_callback(callback, msg)\n  File \"C:\\Users\\t-rakomm\\AppData\\Local\\Continuum\\anaconda3\\lib\\site-packages\\zmq\\eventloop\\zmqstream.py\", line 432, in _run_callback\n    callback(*args, **kwargs)\n  File \"C:\\Users\\t-rakomm\\AppData\\Local\\Continuum\\anaconda3\\lib\\site-packages\\tornado\\stack_context.py\", line 276, in null_wrapper\n    return fn(*args, **kwargs)\n  File \"C:\\Users\\t-rakomm\\AppData\\Local\\Continuum\\anaconda3\\lib\\site-packages\\ipykernel\\kernelbase.py\", line 283, in dispatcher\n    return self.dispatch_shell(stream, msg)\n  File \"C:\\Users\\t-rakomm\\AppData\\Local\\Continuum\\anaconda3\\lib\\site-packages\\ipykernel\\kernelbase.py\", line 233, in dispatch_shell\n    handler(stream, idents, msg)\n  File \"C:\\Users\\t-rakomm\\AppData\\Local\\Continuum\\anaconda3\\lib\\site-packages\\ipykernel\\kernelbase.py\", line 399, in execute_request\n    user_expressions, allow_stdin)\n  File \"C:\\Users\\t-rakomm\\AppData\\Local\\Continuum\\anaconda3\\lib\\site-packages\\ipykernel\\ipkernel.py\", line 208, in do_execute\n    res = shell.run_cell(code, store_history=store_history, silent=silent)\n  File \"C:\\Users\\t-rakomm\\AppData\\Local\\Continuum\\anaconda3\\lib\\site-packages\\ipykernel\\zmqshell.py\", line 537, in run_cell\n    return super(ZMQInteractiveShell, self).run_cell(*args, **kwargs)\n  File \"C:\\Users\\t-rakomm\\AppData\\Local\\Continuum\\anaconda3\\lib\\site-packages\\IPython\\core\\interactiveshell.py\", line 2662, in run_cell\n    raw_cell, store_history, silent, shell_futures)\n  File \"C:\\Users\\t-rakomm\\AppData\\Local\\Continuum\\anaconda3\\lib\\site-packages\\IPython\\core\\interactiveshell.py\", line 2785, in _run_cell\n    interactivity=interactivity, compiler=compiler, result=result)\n  File \"C:\\Users\\t-rakomm\\AppData\\Local\\Continuum\\anaconda3\\lib\\site-packages\\IPython\\core\\interactiveshell.py\", line 2903, in run_ast_nodes\n    if self.run_code(code, result):\n  File \"C:\\Users\\t-rakomm\\AppData\\Local\\Continuum\\anaconda3\\lib\\site-packages\\IPython\\core\\interactiveshell.py\", line 2963, in run_code\n    exec(code_obj, self.user_global_ns, self.user_ns)\n  File \"<ipython-input-144-bcd90072fea1>\", line 7, in <module>\n    model.add(Dense(20, input_dim=3, kernel_initializer='normal', bias_initializer='zeros', activation='relu'))\n  File \"C:\\Users\\t-rakomm\\AppData\\Local\\Continuum\\anaconda3\\lib\\site-packages\\keras\\engine\\sequential.py\", line 162, in add\n    name=layer.name + '_input')\n  File \"C:\\Users\\t-rakomm\\AppData\\Local\\Continuum\\anaconda3\\lib\\site-packages\\keras\\engine\\input_layer.py\", line 176, in Input\n    input_tensor=tensor)\n  File \"C:\\Users\\t-rakomm\\AppData\\Local\\Continuum\\anaconda3\\lib\\site-packages\\keras\\legacy\\interfaces.py\", line 91, in wrapper\n    return func(*args, **kwargs)\n  File \"C:\\Users\\t-rakomm\\AppData\\Local\\Continuum\\anaconda3\\lib\\site-packages\\keras\\engine\\input_layer.py\", line 85, in __init__\n    name=self.name)\n  File \"C:\\Users\\t-rakomm\\AppData\\Local\\Continuum\\anaconda3\\lib\\site-packages\\keras\\backend\\tensorflow_backend.py\", line 514, in placeholder\n    x = tf.placeholder(dtype, shape=shape, name=name)\n  File \"C:\\Users\\t-rakomm\\AppData\\Local\\Continuum\\anaconda3\\lib\\site-packages\\tensorflow\\python\\ops\\array_ops.py\", line 1808, in placeholder\n    return gen_array_ops.placeholder(dtype=dtype, shape=shape, name=name)\n  File \"C:\\Users\\t-rakomm\\AppData\\Local\\Continuum\\anaconda3\\lib\\site-packages\\tensorflow\\python\\ops\\gen_array_ops.py\", line 5835, in placeholder\n    \"Placeholder\", dtype=dtype, shape=shape, name=name)\n  File \"C:\\Users\\t-rakomm\\AppData\\Local\\Continuum\\anaconda3\\lib\\site-packages\\tensorflow\\python\\framework\\op_def_library.py\", line 787, in _apply_op_helper\n    op_def=op_def)\n  File \"C:\\Users\\t-rakomm\\AppData\\Local\\Continuum\\anaconda3\\lib\\site-packages\\tensorflow\\python\\framework\\ops.py\", line 3392, in create_op\n    op_def=op_def)\n  File \"C:\\Users\\t-rakomm\\AppData\\Local\\Continuum\\anaconda3\\lib\\site-packages\\tensorflow\\python\\framework\\ops.py\", line 1718, in __init__\n    self._traceback = self._graph._extract_stack()  # pylint: disable=protected-access\n\nInvalidArgumentError (see above for traceback): You must feed a value for placeholder tensor 'dense_67_input' with dtype float and shape [?,3]\n\t [[Node: dense_67_input = Placeholder[dtype=DT_FLOAT, shape=[?,3], _device=\"/job:localhost/replica:0/task:0/device:CPU:0\"]()]]\n"
     ]
    }
   ],
   "source": [
    "gradients = k.gradients(model.output, model.inputs)\n",
    "with tf.Session() as sess:\n",
    "    sess.run(tf.global_variables_initializer())\n",
    "    print(sess.run(gradients))"
   ]
  },
  {
   "cell_type": "code",
   "execution_count": 500,
   "metadata": {
    "scrolled": true
   },
   "outputs": [
    {
     "data": {
      "text/plain": [
       "      fun: array([124.89078], dtype=float32)\n",
       " hess_inv: <3x3 LbfgsInvHessProduct with dtype=float64>\n",
       "      jac: array([0., 0., 0.])\n",
       "  message: b'CONVERGENCE: NORM_OF_PROJECTED_GRADIENT_<=_PGTOL'\n",
       "     nfev: 4\n",
       "      nit: 0\n",
       "   status: 0\n",
       "  success: True\n",
       "        x: array([ 0.8, 15. ,  1. ])"
      ]
     },
     "execution_count": 500,
     "metadata": {},
     "output_type": "execute_result"
    }
   ],
   "source": [
    "# trying to compute gradient of keras model\n",
    "from keras import backend as k\n",
    "gradients = k.gradients(model.output, model.inputs)\n",
    "\n",
    "#sess = tf.InteractiveSession()\n",
    "def loss(x):\n",
    "    #return dist_ned(my_test_cases[2], x)\n",
    "    #return 100*(model.predict(np.array([x.tolist()]))[0] - 0)**2.0 + dist_ned(my_test_cases[0], x)\n",
    "    return 100*(model.predict(np.array([x.tolist()]))[0] - 0)**2.0 + dist_ned(my_test_cases[0], x)\n",
    "\n",
    "'''\n",
    "def jaco(x):\n",
    "    sess.run(tf.initialize_all_variables())\n",
    "    evaluated_gradients = sess.run(gradients,feed_dict={model.input:np.array([x.tolist()])}) #np.array([x])\n",
    "    type(evaluated_gradients)\n",
    "    return evaluated_gradients\n",
    "'''\n",
    "\n",
    "minimize(loss, np.array([0.8,15,1]), method='L-BFGS-B', bounds = bounds, options={'disp': True})#jac=jaco, "
   ]
  },
  {
   "cell_type": "code",
   "execution_count": 446,
   "metadata": {},
   "outputs": [
    {
     "data": {
      "text/plain": [
       "[<tf.Tensor 'gradients_10/dense_67/MatMul_grad/MatMul:0' shape=(?, 3) dtype=float32>]"
      ]
     },
     "execution_count": 446,
     "metadata": {},
     "output_type": "execute_result"
    }
   ],
   "source": [
    "gradients"
   ]
  },
  {
   "cell_type": "code",
   "execution_count": 459,
   "metadata": {},
   "outputs": [],
   "source": [
    "res = []\n",
    "num_features = len(lsat_trainX[1,:])\n",
    "def generate_CFs(my_test_cases, my_CF_outcome):\n",
    "    for case in my_test_cases: # can extend to diff outcomes for diff test cases\n",
    "        x1 = case\n",
    "        y2 = 0\n",
    "        lam = 100 # need to parameterize this one\n",
    "    \n",
    "        p = random.sample(range(0, len(lsat_trainX)), 1)\n",
    "        print(p)\n",
    "        #res.append(minimize(CF_fun, lsat_trainX[p[0]], args=(x1, y2, lam), method='nelder-mead', \n",
    "        #                    options={'xtol': 1e-8, 'disp': True}, bounds = bounds))\n",
    "        res.append(minimize(CF_fun, lsat_trainX[p[0]], args=(x1, y2, lam), method='L-BFGS-B', jac=jaco,\n",
    "                             bounds = bounds, options={'disp': True}))\n",
    "     "
   ]
  },
  {
   "cell_type": "code",
   "execution_count": 460,
   "metadata": {
    "scrolled": true
   },
   "outputs": [
    {
     "name": "stdout",
     "output_type": "stream",
     "text": [
      "[12631]\n"
     ]
    },
    {
     "ename": "TypeError",
     "evalue": "failed to initialize intent(inout|inplace|cache) array, input not an array",
     "output_type": "error",
     "traceback": [
      "\u001b[1;31m---------------------------------------------------------------------------\u001b[0m",
      "\u001b[1;31mTypeError\u001b[0m                                 Traceback (most recent call last)",
      "\u001b[1;32m<ipython-input-460-150a4f0c3114>\u001b[0m in \u001b[0;36m<module>\u001b[1;34m()\u001b[0m\n\u001b[1;32m----> 1\u001b[1;33m \u001b[0mgenerate_CFs\u001b[0m\u001b[1;33m(\u001b[0m\u001b[0mmy_test_cases\u001b[0m\u001b[1;33m,\u001b[0m \u001b[1;36m0\u001b[0m\u001b[1;33m)\u001b[0m\u001b[1;33m\u001b[0m\u001b[0m\n\u001b[0m",
      "\u001b[1;32m<ipython-input-459-0b7442d2069c>\u001b[0m in \u001b[0;36mgenerate_CFs\u001b[1;34m(my_test_cases, my_CF_outcome)\u001b[0m\n\u001b[0;32m     12\u001b[0m         \u001b[1;31m#                    options={'xtol': 1e-8, 'disp': True}, bounds = bounds))\u001b[0m\u001b[1;33m\u001b[0m\u001b[1;33m\u001b[0m\u001b[0m\n\u001b[0;32m     13\u001b[0m         res.append(minimize(CF_fun, lsat_trainX[p[0]], args=(x1, y2, lam), method='L-BFGS-B', jac=jaco,\n\u001b[1;32m---> 14\u001b[1;33m                              bounds = bounds, options={'disp': True}))\n\u001b[0m\u001b[0;32m     15\u001b[0m \u001b[1;33m\u001b[0m\u001b[0m\n",
      "\u001b[1;32m~\\AppData\\Local\\Continuum\\anaconda3\\lib\\site-packages\\scipy\\optimize\\_minimize.py\u001b[0m in \u001b[0;36mminimize\u001b[1;34m(fun, x0, args, method, jac, hess, hessp, bounds, constraints, tol, callback, options)\u001b[0m\n\u001b[0;32m    601\u001b[0m     \u001b[1;32melif\u001b[0m \u001b[0mmeth\u001b[0m \u001b[1;33m==\u001b[0m \u001b[1;34m'l-bfgs-b'\u001b[0m\u001b[1;33m:\u001b[0m\u001b[1;33m\u001b[0m\u001b[0m\n\u001b[0;32m    602\u001b[0m         return _minimize_lbfgsb(fun, x0, args, jac, bounds,\n\u001b[1;32m--> 603\u001b[1;33m                                 callback=callback, **options)\n\u001b[0m\u001b[0;32m    604\u001b[0m     \u001b[1;32melif\u001b[0m \u001b[0mmeth\u001b[0m \u001b[1;33m==\u001b[0m \u001b[1;34m'tnc'\u001b[0m\u001b[1;33m:\u001b[0m\u001b[1;33m\u001b[0m\u001b[0m\n\u001b[0;32m    605\u001b[0m         return _minimize_tnc(fun, x0, args, jac, bounds, callback=callback,\n",
      "\u001b[1;32m~\\AppData\\Local\\Continuum\\anaconda3\\lib\\site-packages\\scipy\\optimize\\lbfgsb.py\u001b[0m in \u001b[0;36m_minimize_lbfgsb\u001b[1;34m(fun, x0, args, jac, bounds, disp, maxcor, ftol, gtol, eps, maxfun, maxiter, iprint, callback, maxls, **unknown_options)\u001b[0m\n\u001b[0;32m    326\u001b[0m         _lbfgsb.setulb(m, x, low_bnd, upper_bnd, nbd, f, g, factr,\n\u001b[0;32m    327\u001b[0m                        \u001b[0mpgtol\u001b[0m\u001b[1;33m,\u001b[0m \u001b[0mwa\u001b[0m\u001b[1;33m,\u001b[0m \u001b[0miwa\u001b[0m\u001b[1;33m,\u001b[0m \u001b[0mtask\u001b[0m\u001b[1;33m,\u001b[0m \u001b[0miprint\u001b[0m\u001b[1;33m,\u001b[0m \u001b[0mcsave\u001b[0m\u001b[1;33m,\u001b[0m \u001b[0mlsave\u001b[0m\u001b[1;33m,\u001b[0m\u001b[1;33m\u001b[0m\u001b[0m\n\u001b[1;32m--> 328\u001b[1;33m                        isave, dsave, maxls)\n\u001b[0m\u001b[0;32m    329\u001b[0m         \u001b[0mtask_str\u001b[0m \u001b[1;33m=\u001b[0m \u001b[0mtask\u001b[0m\u001b[1;33m.\u001b[0m\u001b[0mtostring\u001b[0m\u001b[1;33m(\u001b[0m\u001b[1;33m)\u001b[0m\u001b[1;33m\u001b[0m\u001b[0m\n\u001b[0;32m    330\u001b[0m         \u001b[1;32mif\u001b[0m \u001b[0mtask_str\u001b[0m\u001b[1;33m.\u001b[0m\u001b[0mstartswith\u001b[0m\u001b[1;33m(\u001b[0m\u001b[1;34mb'FG'\u001b[0m\u001b[1;33m)\u001b[0m\u001b[1;33m:\u001b[0m\u001b[1;33m\u001b[0m\u001b[0m\n",
      "\u001b[1;31mTypeError\u001b[0m: failed to initialize intent(inout|inplace|cache) array, input not an array"
     ]
    }
   ],
   "source": [
    "generate_CFs(my_test_cases, 0)"
   ]
  },
  {
   "cell_type": "code",
   "execution_count": 432,
   "metadata": {},
   "outputs": [
    {
     "name": "stdout",
     "output_type": "stream",
     "text": [
      "[ 3.05 38.99  0.25]\n",
      "[ 3.54 47.95  0.83]\n",
      "[3.600e+00 2.803e+01 2.000e-02]\n",
      "[ 2.77 28.54 -0.22]\n",
      "[ 2.84 18.3  -0.47]\n"
     ]
    }
   ],
   "source": [
    "for r in res:\n",
    "    print(np.round(r.x, 2))"
   ]
  },
  {
   "cell_type": "code",
   "execution_count": 342,
   "metadata": {},
   "outputs": [
    {
     "data": {
      "text/plain": [
       "array([ 2.8, 37. ,  0. ])"
      ]
     },
     "execution_count": 342,
     "metadata": {},
     "output_type": "execute_result"
    }
   ],
   "source": [
    "# testiung if something happened? match with random initialization\n",
    "lsat_trainX[1663,:]"
   ]
  },
  {
   "cell_type": "code",
   "execution_count": 184,
   "metadata": {},
   "outputs": [
    {
     "data": {
      "text/plain": [
       "array([[ 3.1, 39. ,  0. ],\n",
       "       [ 3.7, 48. ,  0. ],\n",
       "       [ 3.3, 28. ,  1. ],\n",
       "       [ 2.4, 28.5,  1. ],\n",
       "       [ 2.7, 18.3,  0. ]])"
      ]
     },
     "execution_count": 184,
     "metadata": {},
     "output_type": "execute_result"
    }
   ],
   "source": [
    "my_test_cases"
   ]
  },
  {
   "cell_type": "code",
   "execution_count": 395,
   "metadata": {
    "scrolled": true
   },
   "outputs": [
    {
     "data": {
      "text/plain": [
       "array([[ 0.17889327],\n",
       "       [ 0.56611145],\n",
       "       [-0.87879485],\n",
       "       [-0.92276317],\n",
       "       [-0.6067992 ]], dtype=float32)"
      ]
     },
     "execution_count": 395,
     "metadata": {},
     "output_type": "execute_result"
    }
   ],
   "source": [
    "my_test_cases = np.array([[3.1, 39.0, 0], [3.7, 48.0, 0], [3.3, 28.0, 1], [2.4, 28.5, 1], [2.7, 18.3, 0]]) \n",
    "model.predict(my_test_cases)"
   ]
  },
  {
   "cell_type": "code",
   "execution_count": 344,
   "metadata": {},
   "outputs": [
    {
     "data": {
      "text/plain": [
       "array([[0.1985851]], dtype=float32)"
      ]
     },
     "execution_count": 344,
     "metadata": {},
     "output_type": "execute_result"
    }
   ],
   "source": [
    "model.predict(np.array([[2.8, 28.1, -0.4]]))"
   ]
  },
  {
   "cell_type": "code",
   "execution_count": 386,
   "metadata": {
    "scrolled": true
   },
   "outputs": [
    {
     "data": {
      "text/html": [
       "<div>\n",
       "<style scoped>\n",
       "    .dataframe tbody tr th:only-of-type {\n",
       "        vertical-align: middle;\n",
       "    }\n",
       "\n",
       "    .dataframe tbody tr th {\n",
       "        vertical-align: top;\n",
       "    }\n",
       "\n",
       "    .dataframe thead th {\n",
       "        text-align: right;\n",
       "    }\n",
       "</style>\n",
       "<table border=\"1\" class=\"dataframe\">\n",
       "  <thead>\n",
       "    <tr style=\"text-align: right;\">\n",
       "      <th></th>\n",
       "      <th>gpa</th>\n",
       "      <th>lsat</th>\n",
       "      <th>isblack</th>\n",
       "      <th>fya</th>\n",
       "    </tr>\n",
       "  </thead>\n",
       "  <tbody>\n",
       "  </tbody>\n",
       "</table>\n",
       "</div>"
      ],
      "text/plain": [
       "Empty DataFrame\n",
       "Columns: [gpa, lsat, isblack, fya]\n",
       "Index: []"
      ]
     },
     "execution_count": 386,
     "metadata": {},
     "output_type": "execute_result"
    }
   ],
   "source": [
    "# df2[(df2['gpa']==3.7) & (df2['lsat']==48.0) & (df2['isblack']==0) & (df2['fya']==0.54)] # this is not in test set\n",
    "#df1[(df1['gpa']==3.1) & (df1['lsat']==39.0) & (df1['isblack']==0) & (df1['fya']==0.17)] # this is not in train set\n",
    "# so inference is original data is that data that are predicted by the algo."
   ]
  },
  {
   "cell_type": "markdown",
   "metadata": {},
   "source": [
    "#### using keras optimizer"
   ]
  },
  {
   "cell_type": "code",
   "execution_count": null,
   "metadata": {},
   "outputs": [],
   "source": []
  },
  {
   "cell_type": "markdown",
   "metadata": {},
   "source": [
    "#### Adam from tensorflow"
   ]
  },
  {
   "cell_type": "code",
   "execution_count": 275,
   "metadata": {},
   "outputs": [],
   "source": [
    "import tensorflow as tf"
   ]
  },
  {
   "cell_type": "code",
   "execution_count": 519,
   "metadata": {
    "scrolled": true
   },
   "outputs": [
    {
     "ename": "AttributeError",
     "evalue": "'Variable' object has no attribute 'tolist'",
     "output_type": "error",
     "traceback": [
      "\u001b[1;31m---------------------------------------------------------------------------\u001b[0m",
      "\u001b[1;31mAttributeError\u001b[0m                            Traceback (most recent call last)",
      "\u001b[1;32m<ipython-input-519-5d696cbfba5e>\u001b[0m in \u001b[0;36m<module>\u001b[1;34m()\u001b[0m\n\u001b[0;32m      8\u001b[0m \u001b[1;31m#    return (lam*(model.predict(np.array([x.tolist()]))[0] - y2)**2.0 + dist_amad(x1, x))\u001b[0m\u001b[1;33m\u001b[0m\u001b[1;33m\u001b[0m\u001b[0m\n\u001b[0;32m      9\u001b[0m \u001b[1;33m\u001b[0m\u001b[0m\n\u001b[1;32m---> 10\u001b[1;33m \u001b[0mfx2\u001b[0m \u001b[1;33m=\u001b[0m \u001b[0mmypred\u001b[0m\u001b[1;33m(\u001b[0m\u001b[0mx2\u001b[0m\u001b[1;33m)\u001b[0m \u001b[1;33m+\u001b[0m \u001b[0mdist_amad\u001b[0m\u001b[1;33m(\u001b[0m\u001b[0mmy_test_cases\u001b[0m\u001b[1;33m[\u001b[0m\u001b[1;36m0\u001b[0m\u001b[1;33m]\u001b[0m\u001b[1;33m,\u001b[0m \u001b[0mx2\u001b[0m\u001b[1;33m)\u001b[0m\u001b[1;33m\u001b[0m\u001b[0m\n\u001b[0m\u001b[0;32m     11\u001b[0m \u001b[1;33m\u001b[0m\u001b[0m\n\u001b[0;32m     12\u001b[0m \u001b[1;31m#fx2 = dist_amad(my_test_cases[0], x2)\u001b[0m\u001b[1;33m\u001b[0m\u001b[1;33m\u001b[0m\u001b[0m\n",
      "\u001b[1;32m<ipython-input-519-5d696cbfba5e>\u001b[0m in \u001b[0;36mmypred\u001b[1;34m(x3)\u001b[0m\n\u001b[0;32m      5\u001b[0m \u001b[1;32mdef\u001b[0m \u001b[0mmypred\u001b[0m\u001b[1;33m(\u001b[0m\u001b[0mx3\u001b[0m\u001b[1;33m)\u001b[0m\u001b[1;33m:\u001b[0m\u001b[1;33m\u001b[0m\u001b[0m\n\u001b[0;32m      6\u001b[0m     \u001b[1;31m#return 100*(model.predict(np.array(x3)) - 0)**2.0\u001b[0m\u001b[1;33m\u001b[0m\u001b[1;33m\u001b[0m\u001b[0m\n\u001b[1;32m----> 7\u001b[1;33m     \u001b[1;32mreturn\u001b[0m \u001b[1;36m100\u001b[0m\u001b[1;33m*\u001b[0m\u001b[1;33m(\u001b[0m\u001b[0mmodel\u001b[0m\u001b[1;33m.\u001b[0m\u001b[0mpredict\u001b[0m\u001b[1;33m(\u001b[0m\u001b[0mnp\u001b[0m\u001b[1;33m.\u001b[0m\u001b[0marray\u001b[0m\u001b[1;33m(\u001b[0m\u001b[0mx3\u001b[0m\u001b[1;33m.\u001b[0m\u001b[0mtolist\u001b[0m\u001b[1;33m(\u001b[0m\u001b[1;33m)\u001b[0m\u001b[1;33m)\u001b[0m\u001b[1;33m)\u001b[0m\u001b[1;33m[\u001b[0m\u001b[1;36m0\u001b[0m\u001b[1;33m]\u001b[0m \u001b[1;33m-\u001b[0m \u001b[1;36m0\u001b[0m\u001b[1;33m)\u001b[0m\u001b[1;33m**\u001b[0m\u001b[1;36m2.0\u001b[0m\u001b[1;33m\u001b[0m\u001b[0m\n\u001b[0m\u001b[0;32m      8\u001b[0m \u001b[1;31m#    return (lam*(model.predict(np.array([x.tolist()]))[0] - y2)**2.0 + dist_amad(x1, x))\u001b[0m\u001b[1;33m\u001b[0m\u001b[1;33m\u001b[0m\u001b[0m\n\u001b[0;32m      9\u001b[0m \u001b[1;33m\u001b[0m\u001b[0m\n",
      "\u001b[1;31mAttributeError\u001b[0m: 'Variable' object has no attribute 'tolist'"
     ]
    }
   ],
   "source": [
    "x1 = my_test_cases[0]\n",
    "y2 = 0\n",
    "lam = 5 # need to parameterize this one\n",
    "\n",
    "def mypred(x3):\n",
    "    #return 100*(model.predict(np.array(x3)) - 0)**2.0\n",
    "    return 100*(model.predict(np.array(x3.tolist()))[0] - 0)**2.0\n",
    "#    return (lam*(model.predict(np.array([x.tolist()]))[0] - y2)**2.0 + dist_amad(x1, x))\n",
    "\n",
    "fx2 = mypred(x2) + dist_amad(my_test_cases[0], x2)\n",
    "\n",
    "#fx2 = dist_amad(my_test_cases[0], x2)\n",
    "\n",
    "optimizer = tf.train.AdamOptimizer(learning_rate=.001).minimize(fx2)\n",
    "\n",
    "with tf.Session() as sess:\n",
    "    sess.run(tf.global_variables_initializer())\n",
    "    for i in range(50):\n",
    "        print(sess.run([x2,fx2]))\n",
    "        sess.run(optimizer)"
   ]
  },
  {
   "cell_type": "code",
   "execution_count": null,
   "metadata": {
    "scrolled": true
   },
   "outputs": [],
   "source": [
    "p = random.sample(range(0, len(lsat_trainX)), 1)\n",
    "\n",
    "def foo():\n",
    "  with tf.variable_scope(\"foo\", reuse=tf.AUTO_REUSE):\n",
    "    x = tf.get_variable('x', initializer = lsat_trainX[p[0]])\n",
    "  return x\n",
    "\n",
    "x = foo()\n",
    "#x2 = tf.get_variable('x2', initializer = lsat_trainX[p[0]]) #, dtype=np.ndarray, shape=[1,3]"
   ]
  },
  {
   "cell_type": "markdown",
   "metadata": {},
   "source": [
    "#### method 2"
   ]
  },
  {
   "cell_type": "code",
   "execution_count": 378,
   "metadata": {
    "scrolled": true
   },
   "outputs": [
    {
     "name": "stdout",
     "output_type": "stream",
     "text": [
      "[[<tf.Variable 'v1:0' shape=() dtype=float64_ref>\n",
      "  <tf.Variable 'v2:0' shape=() dtype=float64_ref>\n",
      "  <tf.Variable 'v3:0' shape=() dtype=float64_ref>]]\n"
     ]
    },
    {
     "ename": "ValueError",
     "evalue": "setting an array element with a sequence.",
     "output_type": "error",
     "traceback": [
      "\u001b[1;31m---------------------------------------------------------------------------\u001b[0m",
      "\u001b[1;31mValueError\u001b[0m                                Traceback (most recent call last)",
      "\u001b[1;32m<ipython-input-378-cca6a43cb7e6>\u001b[0m in \u001b[0;36m<module>\u001b[1;34m()\u001b[0m\n\u001b[0;32m      9\u001b[0m     \u001b[1;32mreturn\u001b[0m \u001b[0mpred\u001b[0m\u001b[1;33m\u001b[0m\u001b[0m\n\u001b[0;32m     10\u001b[0m \u001b[1;33m\u001b[0m\u001b[0m\n\u001b[1;32m---> 11\u001b[1;33m \u001b[0mfx2\u001b[0m \u001b[1;33m=\u001b[0m \u001b[0mmypred\u001b[0m\u001b[1;33m(\u001b[0m\u001b[0mnp\u001b[0m\u001b[1;33m.\u001b[0m\u001b[0marray\u001b[0m\u001b[1;33m(\u001b[0m\u001b[1;33m[\u001b[0m\u001b[1;33m[\u001b[0m\u001b[0mv1\u001b[0m\u001b[1;33m,\u001b[0m\u001b[0mv2\u001b[0m\u001b[1;33m,\u001b[0m\u001b[0mv3\u001b[0m\u001b[1;33m]\u001b[0m\u001b[1;33m]\u001b[0m\u001b[1;33m)\u001b[0m\u001b[1;33m)\u001b[0m \u001b[1;33m+\u001b[0m \u001b[0mdist_amad\u001b[0m\u001b[1;33m(\u001b[0m\u001b[0mmy_test_cases\u001b[0m\u001b[1;33m[\u001b[0m\u001b[1;36m0\u001b[0m\u001b[1;33m]\u001b[0m\u001b[1;33m,\u001b[0m \u001b[0mx2\u001b[0m\u001b[1;33m)\u001b[0m\u001b[1;33m\u001b[0m\u001b[0m\n\u001b[0m\u001b[0;32m     12\u001b[0m \u001b[1;33m\u001b[0m\u001b[0m\n\u001b[0;32m     13\u001b[0m \u001b[1;31m#fx2 = dist_amad(my_test_cases[0], x2)\u001b[0m\u001b[1;33m\u001b[0m\u001b[1;33m\u001b[0m\u001b[0m\n",
      "\u001b[1;32m<ipython-input-378-cca6a43cb7e6>\u001b[0m in \u001b[0;36mmypred\u001b[1;34m(x4)\u001b[0m\n\u001b[0;32m      6\u001b[0m     \u001b[0mprint\u001b[0m\u001b[1;33m(\u001b[0m\u001b[0mx4\u001b[0m\u001b[1;33m)\u001b[0m\u001b[1;33m\u001b[0m\u001b[0m\n\u001b[0;32m      7\u001b[0m     \u001b[0mx5\u001b[0m \u001b[1;33m=\u001b[0m \u001b[0mx4\u001b[0m\u001b[1;33m\u001b[0m\u001b[0m\n\u001b[1;32m----> 8\u001b[1;33m     \u001b[0mpred\u001b[0m \u001b[1;33m=\u001b[0m \u001b[1;36m100\u001b[0m\u001b[1;33m*\u001b[0m\u001b[1;33m(\u001b[0m\u001b[0mmodel\u001b[0m\u001b[1;33m.\u001b[0m\u001b[0mpredict\u001b[0m\u001b[1;33m(\u001b[0m\u001b[0mx5\u001b[0m\u001b[1;33m)\u001b[0m \u001b[1;33m-\u001b[0m \u001b[1;36m0\u001b[0m\u001b[1;33m)\u001b[0m\u001b[1;33m**\u001b[0m\u001b[1;36m2.0\u001b[0m\u001b[1;33m\u001b[0m\u001b[0m\n\u001b[0m\u001b[0;32m      9\u001b[0m     \u001b[1;32mreturn\u001b[0m \u001b[0mpred\u001b[0m\u001b[1;33m\u001b[0m\u001b[0m\n\u001b[0;32m     10\u001b[0m \u001b[1;33m\u001b[0m\u001b[0m\n",
      "\u001b[1;32m~\\AppData\\Local\\Continuum\\anaconda3\\lib\\site-packages\\keras\\engine\\training.py\u001b[0m in \u001b[0;36mpredict\u001b[1;34m(self, x, batch_size, verbose, steps)\u001b[0m\n\u001b[0;32m   1170\u001b[0m                                             \u001b[0mbatch_size\u001b[0m\u001b[1;33m=\u001b[0m\u001b[0mbatch_size\u001b[0m\u001b[1;33m,\u001b[0m\u001b[1;33m\u001b[0m\u001b[0m\n\u001b[0;32m   1171\u001b[0m                                             \u001b[0mverbose\u001b[0m\u001b[1;33m=\u001b[0m\u001b[0mverbose\u001b[0m\u001b[1;33m,\u001b[0m\u001b[1;33m\u001b[0m\u001b[0m\n\u001b[1;32m-> 1172\u001b[1;33m                                             steps=steps)\n\u001b[0m\u001b[0;32m   1173\u001b[0m \u001b[1;33m\u001b[0m\u001b[0m\n\u001b[0;32m   1174\u001b[0m     def train_on_batch(self, x, y,\n",
      "\u001b[1;32m~\\AppData\\Local\\Continuum\\anaconda3\\lib\\site-packages\\keras\\engine\\training_arrays.py\u001b[0m in \u001b[0;36mpredict_loop\u001b[1;34m(model, f, ins, batch_size, verbose, steps)\u001b[0m\n\u001b[0;32m    295\u001b[0m                 \u001b[0mins_batch\u001b[0m\u001b[1;33m[\u001b[0m\u001b[0mi\u001b[0m\u001b[1;33m]\u001b[0m \u001b[1;33m=\u001b[0m \u001b[0mins_batch\u001b[0m\u001b[1;33m[\u001b[0m\u001b[0mi\u001b[0m\u001b[1;33m]\u001b[0m\u001b[1;33m.\u001b[0m\u001b[0mtoarray\u001b[0m\u001b[1;33m(\u001b[0m\u001b[1;33m)\u001b[0m\u001b[1;33m\u001b[0m\u001b[0m\n\u001b[0;32m    296\u001b[0m \u001b[1;33m\u001b[0m\u001b[0m\n\u001b[1;32m--> 297\u001b[1;33m             \u001b[0mbatch_outs\u001b[0m \u001b[1;33m=\u001b[0m \u001b[0mf\u001b[0m\u001b[1;33m(\u001b[0m\u001b[0mins_batch\u001b[0m\u001b[1;33m)\u001b[0m\u001b[1;33m\u001b[0m\u001b[0m\n\u001b[0m\u001b[0;32m    298\u001b[0m             \u001b[1;32mif\u001b[0m \u001b[1;32mnot\u001b[0m \u001b[0misinstance\u001b[0m\u001b[1;33m(\u001b[0m\u001b[0mbatch_outs\u001b[0m\u001b[1;33m,\u001b[0m \u001b[0mlist\u001b[0m\u001b[1;33m)\u001b[0m\u001b[1;33m:\u001b[0m\u001b[1;33m\u001b[0m\u001b[0m\n\u001b[0;32m    299\u001b[0m                 \u001b[0mbatch_outs\u001b[0m \u001b[1;33m=\u001b[0m \u001b[1;33m[\u001b[0m\u001b[0mbatch_outs\u001b[0m\u001b[1;33m]\u001b[0m\u001b[1;33m\u001b[0m\u001b[0m\n",
      "\u001b[1;32m~\\AppData\\Local\\Continuum\\anaconda3\\lib\\site-packages\\keras\\backend\\tensorflow_backend.py\u001b[0m in \u001b[0;36m__call__\u001b[1;34m(self, inputs)\u001b[0m\n\u001b[0;32m   2659\u001b[0m                 \u001b[1;32mreturn\u001b[0m \u001b[0mself\u001b[0m\u001b[1;33m.\u001b[0m\u001b[0m_legacy_call\u001b[0m\u001b[1;33m(\u001b[0m\u001b[0minputs\u001b[0m\u001b[1;33m)\u001b[0m\u001b[1;33m\u001b[0m\u001b[0m\n\u001b[0;32m   2660\u001b[0m \u001b[1;33m\u001b[0m\u001b[0m\n\u001b[1;32m-> 2661\u001b[1;33m             \u001b[1;32mreturn\u001b[0m \u001b[0mself\u001b[0m\u001b[1;33m.\u001b[0m\u001b[0m_call\u001b[0m\u001b[1;33m(\u001b[0m\u001b[0minputs\u001b[0m\u001b[1;33m)\u001b[0m\u001b[1;33m\u001b[0m\u001b[0m\n\u001b[0m\u001b[0;32m   2662\u001b[0m         \u001b[1;32melse\u001b[0m\u001b[1;33m:\u001b[0m\u001b[1;33m\u001b[0m\u001b[0m\n\u001b[0;32m   2663\u001b[0m             \u001b[1;32mif\u001b[0m \u001b[0mpy_any\u001b[0m\u001b[1;33m(\u001b[0m\u001b[0mis_tensor\u001b[0m\u001b[1;33m(\u001b[0m\u001b[0mx\u001b[0m\u001b[1;33m)\u001b[0m \u001b[1;32mfor\u001b[0m \u001b[0mx\u001b[0m \u001b[1;32min\u001b[0m \u001b[0minputs\u001b[0m\u001b[1;33m)\u001b[0m\u001b[1;33m:\u001b[0m\u001b[1;33m\u001b[0m\u001b[0m\n",
      "\u001b[1;32m~\\AppData\\Local\\Continuum\\anaconda3\\lib\\site-packages\\keras\\backend\\tensorflow_backend.py\u001b[0m in \u001b[0;36m_call\u001b[1;34m(self, inputs)\u001b[0m\n\u001b[0;32m   2612\u001b[0m                 array_vals.append(\n\u001b[0;32m   2613\u001b[0m                     np.asarray(value,\n\u001b[1;32m-> 2614\u001b[1;33m                                dtype=tensor.dtype.base_dtype.name))\n\u001b[0m\u001b[0;32m   2615\u001b[0m         \u001b[1;32mif\u001b[0m \u001b[0mself\u001b[0m\u001b[1;33m.\u001b[0m\u001b[0mfeed_dict\u001b[0m\u001b[1;33m:\u001b[0m\u001b[1;33m\u001b[0m\u001b[0m\n\u001b[0;32m   2616\u001b[0m             \u001b[1;32mfor\u001b[0m \u001b[0mkey\u001b[0m \u001b[1;32min\u001b[0m \u001b[0msorted\u001b[0m\u001b[1;33m(\u001b[0m\u001b[0mself\u001b[0m\u001b[1;33m.\u001b[0m\u001b[0mfeed_dict\u001b[0m\u001b[1;33m.\u001b[0m\u001b[0mkeys\u001b[0m\u001b[1;33m(\u001b[0m\u001b[1;33m)\u001b[0m\u001b[1;33m)\u001b[0m\u001b[1;33m:\u001b[0m\u001b[1;33m\u001b[0m\u001b[0m\n",
      "\u001b[1;32m~\\AppData\\Local\\Continuum\\anaconda3\\lib\\site-packages\\numpy\\core\\numeric.py\u001b[0m in \u001b[0;36masarray\u001b[1;34m(a, dtype, order)\u001b[0m\n\u001b[0;32m    490\u001b[0m \u001b[1;33m\u001b[0m\u001b[0m\n\u001b[0;32m    491\u001b[0m     \"\"\"\n\u001b[1;32m--> 492\u001b[1;33m     \u001b[1;32mreturn\u001b[0m \u001b[0marray\u001b[0m\u001b[1;33m(\u001b[0m\u001b[0ma\u001b[0m\u001b[1;33m,\u001b[0m \u001b[0mdtype\u001b[0m\u001b[1;33m,\u001b[0m \u001b[0mcopy\u001b[0m\u001b[1;33m=\u001b[0m\u001b[1;32mFalse\u001b[0m\u001b[1;33m,\u001b[0m \u001b[0morder\u001b[0m\u001b[1;33m=\u001b[0m\u001b[0morder\u001b[0m\u001b[1;33m)\u001b[0m\u001b[1;33m\u001b[0m\u001b[0m\n\u001b[0m\u001b[0;32m    493\u001b[0m \u001b[1;33m\u001b[0m\u001b[0m\n\u001b[0;32m    494\u001b[0m \u001b[1;33m\u001b[0m\u001b[0m\n",
      "\u001b[1;31mValueError\u001b[0m: setting an array element with a sequence."
     ]
    }
   ],
   "source": [
    "\n",
    "x1 = my_test_cases[0]\n",
    "y2 = 0\n",
    "lam = 5 # need to parameterize this one\n",
    "\n",
    "def mypred(x4):\n",
    "    print(x4)\n",
    "    x5 = x4\n",
    "    pred = 100*(model.predict(x5) - 0)**2.0\n",
    "    return pred\n",
    "    \n",
    "fx2 = mypred(np.array([[v1,v2,v3]])) + dist_amad(my_test_cases[0], x2)\n",
    "\n",
    "#fx2 = dist_amad(my_test_cases[0], x2)\n",
    "\n",
    "optimizer = tf.train.AdamOptimizer(learning_rate=.001).minimize(fx2)\n",
    "\n",
    "with tf.Session() as sess:\n",
    "    sess.run(tf.global_variables_initializer())\n",
    "    for i in range(50):\n",
    "        print(sess.run([x2,fx2]))\n",
    "        sess.run(optimizer)"
   ]
  },
  {
   "cell_type": "code",
   "execution_count": 374,
   "metadata": {
    "scrolled": true
   },
   "outputs": [],
   "source": [
    "#x3 = tf.get_variable('x3', initializer = lsat_trainX[p[0]], trainable=True)\n",
    "v1 = tf.get_variable('v1', initializer = lsat_trainX[p[0]][0], trainable=True)\n",
    "v2 = tf.get_variable('v2', initializer = lsat_trainX[p[0]][1], trainable=True)\n",
    "v3 = tf.get_variable('v3', initializer = lsat_trainX[p[0]][2], trainable=True)"
   ]
  },
  {
   "cell_type": "code",
   "execution_count": 373,
   "metadata": {},
   "outputs": [
    {
     "name": "stdout",
     "output_type": "stream",
     "text": [
      "[[ 3.2 40.2  1. ]]\n"
     ]
    },
    {
     "data": {
      "text/plain": [
       "array([[-0.47675115]], dtype=float32)"
      ]
     },
     "execution_count": 373,
     "metadata": {},
     "output_type": "execute_result"
    }
   ],
   "source": [
    "a=3.2\n",
    "b=40.2\n",
    "c=1\n",
    "d=np.array([[a,b,c]])\n",
    "print(d)\n",
    "model.predict(d)"
   ]
  },
  {
   "cell_type": "code",
   "execution_count": 371,
   "metadata": {
    "scrolled": true
   },
   "outputs": [
    {
     "name": "stdout",
     "output_type": "stream",
     "text": [
      "[ 3.2 44.   0. ]\n",
      "[[ 3.2 44.   0. ]]\n"
     ]
    }
   ],
   "source": [
    "d=lsat_trainX[p[0]]\n",
    "print(d)\n",
    "print(np.array([d.tolist()]))"
   ]
  },
  {
   "cell_type": "code",
   "execution_count": 290,
   "metadata": {},
   "outputs": [
    {
     "data": {
      "text/plain": [
       "<tf.Variable 'foo/x:0' shape=(3,) dtype=float64_ref>"
      ]
     },
     "execution_count": 290,
     "metadata": {},
     "output_type": "execute_result"
    }
   ],
   "source": [
    "x"
   ]
  },
  {
   "cell_type": "markdown",
   "metadata": {},
   "source": [
    "#### method 3: - use tensorflow model and train. \n",
    "\n",
    "But before that, see if tensorflow variables accepts such variables and then proceed. That is, see normal tensorflwo optimization problem with theri model and see any difference. that their model accepts tensorflow variable istead of scalar - see previous prob"
   ]
  },
  {
   "cell_type": "markdown",
   "metadata": {},
   "source": [
    "### Rough"
   ]
  },
  {
   "cell_type": "markdown",
   "metadata": {},
   "source": [
    "\n",
    "Several approaches now:\n",
    "1. try adam from tensorflwo within 4.30 - cap values and \n",
    "2. it has limitations - quora https://www.quora.com/Can-one-optimise-arbitrary-functions-using-tensorflow, so use general Opt\n",
    "    a. how MAD is used for race or can be used for other discrete var- becomes it becomes 0\n",
    "3. try cvopt \n",
    "\n",
    "\n",
    "1. other improvements in MSR docs - bound constraints, separate dist func for each feature, etc\n",
    "2. think about determinats approach\n",
    "3. git the notebooks\n"
   ]
  },
  {
   "cell_type": "markdown",
   "metadata": {},
   "source": []
  },
  {
   "cell_type": "code",
   "execution_count": 253,
   "metadata": {},
   "outputs": [
    {
     "name": "stdout",
     "output_type": "stream",
     "text": [
      "0.0\n",
      "[0. 0. 0. ... 0. 0. 0.]\n"
     ]
    }
   ],
   "source": [
    "med1 = np.median(lsat_testX[:,2])\n",
    "print(med1)\n",
    "print(abs(lsat_testX[:,2] - med1))"
   ]
  },
  {
   "cell_type": "code",
   "execution_count": 255,
   "metadata": {},
   "outputs": [],
   "source": [
    "s1 = my_test_cases[0]\n",
    "s2 = my_test_cases[1]"
   ]
  },
  {
   "cell_type": "code",
   "execution_count": 257,
   "metadata": {},
   "outputs": [
    {
     "data": {
      "text/plain": [
       "16.056919639724665"
      ]
     },
     "execution_count": 257,
     "metadata": {},
     "output_type": "execute_result"
    }
   ],
   "source": [
    "dist_ned(s1, s2)"
   ]
  },
  {
   "cell_type": "code",
   "execution_count": 258,
   "metadata": {},
   "outputs": [
    {
     "data": {
      "text/plain": [
       "array([nan], dtype=float32)"
      ]
     },
     "execution_count": 258,
     "metadata": {},
     "output_type": "execute_result"
    }
   ],
   "source": [
    "100*(model.predict(np.array([s2.tolist()]))[0] - 0)**2.0 + dist_amad(s1, s2)"
   ]
  },
  {
   "cell_type": "code",
   "execution_count": 208,
   "metadata": {},
   "outputs": [
    {
     "data": {
      "text/plain": [
       "81.36"
      ]
     },
     "execution_count": 208,
     "metadata": {},
     "output_type": "execute_result"
    }
   ],
   "source": [
    "sum((my_test_cases[0] - my_test_cases[1])**2)"
   ]
  },
  {
   "cell_type": "code",
   "execution_count": 30,
   "metadata": {},
   "outputs": [
    {
     "data": {
      "text/plain": [
       "['gpa', 'lsat', 'isblack', 'fya']"
      ]
     },
     "execution_count": 30,
     "metadata": {},
     "output_type": "execute_result"
    }
   ],
   "source": [
    "list(df1)"
   ]
  },
  {
   "cell_type": "code",
   "execution_count": 398,
   "metadata": {},
   "outputs": [
    {
     "data": {
      "text/plain": [
       "array([[0.17889327]], dtype=float32)"
      ]
     },
     "execution_count": 398,
     "metadata": {},
     "output_type": "execute_result"
    }
   ],
   "source": [
    "model.predict(np.array([[ 3.1, 39., 0. ]]))"
   ]
  },
  {
   "cell_type": "code",
   "execution_count": 399,
   "metadata": {},
   "outputs": [
    {
     "data": {
      "text/plain": [
       "array([ 3.1, 39. ,  0. ])"
      ]
     },
     "execution_count": 399,
     "metadata": {},
     "output_type": "execute_result"
    }
   ],
   "source": [
    "np.array([[ 3.1, 39., 0. ]]).flatten()"
   ]
  },
  {
   "cell_type": "code",
   "execution_count": 402,
   "metadata": {},
   "outputs": [
    {
     "data": {
      "text/plain": [
       "39.0"
      ]
     },
     "execution_count": 402,
     "metadata": {},
     "output_type": "execute_result"
    }
   ],
   "source": [
    "a = np.array([[ 3.1, 39., 0. ]])\n",
    "a[0][1]"
   ]
  },
  {
   "cell_type": "code",
   "execution_count": 404,
   "metadata": {},
   "outputs": [],
   "source": [
    "x = tf.Variable(3.0, trainable=True)\n",
    "y = tf.Variable(4.0, trainable=True)\n",
    "f = tf.add_n([tf.square(tf.add(tf.subtract(1.5, x), tf.multiply(x, y))),\n",
    "          tf.square(tf.add(tf.subtract(2.25, x), tf.multiply(x, tf.square(y)))),\n",
    "          tf.square(tf.add(tf.subtract(2.625, x), tf.multiply(x, tf.pow(y, 3))))])\n",
    "\n",
    "opt = tf.train.GradientDescentOptimizer(0.01)\n",
    "grads_and_vars = opt.compute_gradients(f, [x, y])\n",
    "clipped_grads_and_vars = [(tf.clip_by_value(g, -4.5, 4.5), v) for g, v in grads_and_vars]\n",
    "\n",
    "train = opt.apply_gradients(clipped_grads_and_vars)\n"
   ]
  },
  {
   "cell_type": "code",
   "execution_count": 405,
   "metadata": {},
   "outputs": [
    {
     "data": {
      "text/plain": [
       "[(<tf.Tensor 'gradients_3/AddN:0' shape=() dtype=float32>,\n",
       "  <tf.Variable 'Variable_2:0' shape=() dtype=float32_ref>),\n",
       " (<tf.Tensor 'gradients_3/AddN_1:0' shape=() dtype=float32>,\n",
       "  <tf.Variable 'Variable_3:0' shape=() dtype=float32_ref>)]"
      ]
     },
     "execution_count": 405,
     "metadata": {},
     "output_type": "execute_result"
    }
   ],
   "source": [
    "grads_and_vars"
   ]
  },
  {
   "cell_type": "markdown",
   "metadata": {},
   "source": [
    "### Plots"
   ]
  },
  {
   "cell_type": "code",
   "execution_count": 60,
   "metadata": {
    "scrolled": true
   },
   "outputs": [
    {
     "name": "stdout",
     "output_type": "stream",
     "text": [
      "teeess\n"
     ]
    },
    {
     "name": "stderr",
     "output_type": "stream",
     "text": [
      "C:\\Users\\t-rakomm\\AppData\\Local\\Continuum\\anaconda3\\lib\\site-packages\\matplotlib\\axes\\_axes.py:6462: UserWarning: The 'normed' kwarg is deprecated, and has been replaced by the 'density' kwarg.\n",
      "  warnings.warn(\"The 'normed' kwarg is deprecated, and has been \"\n",
      "C:\\Users\\t-rakomm\\AppData\\Local\\Continuum\\anaconda3\\lib\\site-packages\\matplotlib\\axes\\_axes.py:6462: UserWarning: The 'normed' kwarg is deprecated, and has been replaced by the 'density' kwarg.\n",
      "  warnings.warn(\"The 'normed' kwarg is deprecated, and has been \"\n",
      "C:\\Users\\t-rakomm\\AppData\\Local\\Continuum\\anaconda3\\lib\\site-packages\\matplotlib\\axes\\_axes.py:6462: UserWarning: The 'normed' kwarg is deprecated, and has been replaced by the 'density' kwarg.\n",
      "  warnings.warn(\"The 'normed' kwarg is deprecated, and has been \"\n",
      "C:\\Users\\t-rakomm\\AppData\\Local\\Continuum\\anaconda3\\lib\\site-packages\\matplotlib\\axes\\_axes.py:6462: UserWarning: The 'normed' kwarg is deprecated, and has been replaced by the 'density' kwarg.\n",
      "  warnings.warn(\"The 'normed' kwarg is deprecated, and has been \"\n"
     ]
    },
    {
     "name": "stdout",
     "output_type": "stream",
     "text": [
      "asdf\n"
     ]
    },
    {
     "data": {
      "image/png": "[encoded data removed]",
      "text/plain": [
       "<Figure size 432x288 with 2 Axes>"
      ]
     },
     "metadata": {},
     "output_type": "display_data"
    },
    {
     "data": {
      "image/png": "[encoded data removed]",
      "text/plain": [
       "<Figure size 432x288 with 2 Axes>"
      ]
     },
     "metadata": {},
     "output_type": "display_data"
    },
    {
     "data": {
      "image/png": "[encoded data removed]",
      "text/plain": [
       "<Figure size 432x288 with 2 Axes>"
      ]
     },
     "metadata": {},
     "output_type": "display_data"
    },
    {
     "data": {
      "image/png": "[encoded data removed]",
      "text/plain": [
       "<Figure size 432x288 with 2 Axes>"
      ]
     },
     "metadata": {},
     "output_type": "display_data"
    }
   ],
   "source": [
    "plot_features_of(df1, list(df1))"
   ]
  },
  {
   "cell_type": "code",
   "execution_count": 61,
   "metadata": {
    "scrolled": true
   },
   "outputs": [
    {
     "name": "stdout",
     "output_type": "stream",
     "text": [
      "teeess\n"
     ]
    },
    {
     "name": "stderr",
     "output_type": "stream",
     "text": [
      "C:\\Users\\t-rakomm\\AppData\\Local\\Continuum\\anaconda3\\lib\\site-packages\\matplotlib\\axes\\_axes.py:6462: UserWarning: The 'normed' kwarg is deprecated, and has been replaced by the 'density' kwarg.\n",
      "  warnings.warn(\"The 'normed' kwarg is deprecated, and has been \"\n",
      "C:\\Users\\t-rakomm\\AppData\\Local\\Continuum\\anaconda3\\lib\\site-packages\\matplotlib\\axes\\_axes.py:6462: UserWarning: The 'normed' kwarg is deprecated, and has been replaced by the 'density' kwarg.\n",
      "  warnings.warn(\"The 'normed' kwarg is deprecated, and has been \"\n",
      "C:\\Users\\t-rakomm\\AppData\\Local\\Continuum\\anaconda3\\lib\\site-packages\\matplotlib\\axes\\_axes.py:6462: UserWarning: The 'normed' kwarg is deprecated, and has been replaced by the 'density' kwarg.\n",
      "  warnings.warn(\"The 'normed' kwarg is deprecated, and has been \"\n",
      "C:\\Users\\t-rakomm\\AppData\\Local\\Continuum\\anaconda3\\lib\\site-packages\\matplotlib\\axes\\_axes.py:6462: UserWarning: The 'normed' kwarg is deprecated, and has been replaced by the 'density' kwarg.\n",
      "  warnings.warn(\"The 'normed' kwarg is deprecated, and has been \"\n"
     ]
    },
    {
     "name": "stdout",
     "output_type": "stream",
     "text": [
      "asdf\n"
     ]
    },
    {
     "data": {
      "image/png": "[encoded data removed]",
      "text/plain": [
       "<Figure size 432x288 with 2 Axes>"
      ]
     },
     "metadata": {},
     "output_type": "display_data"
    },
    {
     "data": {
      "image/png": "[encoded data removed]",
      "text/plain": [
       "<Figure size 432x288 with 2 Axes>"
      ]
     },
     "metadata": {},
     "output_type": "display_data"
    },
    {
     "data": {
      "image/png": "[encoded data removed]",
      "text/plain": [
       "<Figure size 432x288 with 2 Axes>"
      ]
     },
     "metadata": {},
     "output_type": "display_data"
    },
    {
     "data": {
      "image/png": "[encoded data removed]",
      "text/plain": [
       "<Figure size 432x288 with 2 Axes>"
      ]
     },
     "metadata": {},
     "output_type": "display_data"
    }
   ],
   "source": [
    "plot_features_of(df2, list(df2))"
   ]
  },
  {
   "cell_type": "code",
   "execution_count": null,
   "metadata": {},
   "outputs": [],
   "source": []
  },
  {
   "cell_type": "raw",
   "metadata": {},
   "source": [
    "from matplotlib.ticker import MaxNLocator\n",
    "\n",
    "def plot_features_of(data, features):\n",
    "    data = data[features]\n",
    "    data_types = data.dtypes\n",
    "    \n",
    "    categorical_attrs = list(data_types[data_types == 'object'].index)\n",
    "    if len(categorical_attrs) > 0:\n",
    "        discrete_plot(data, categorical_attrs)\n",
    "    \n",
    "    numeric_attrs = list(data_types[(data_types == 'int64') | (data_types=='float64')].index)\n",
    "    \n",
    "    if len(numeric_attrs) > 0:\n",
    "        numeric_plot(data, numeric_attrs)\n",
    "        \n",
    "def discrete_plot(data, categorical_attrs):\n",
    "    for attr_name in categorical_attrs:\n",
    "        a = plt.figure()\n",
    "\n",
    "        attr_data = data[attr_name]\n",
    "\n",
    "        # Rotate the label of the vertical axis\n",
    "        # so that it's easy to read\n",
    "\n",
    "        plot = sns.countplot(x=attr_name, data=data)\n",
    "\n",
    "        plot.set_title(attr_name)\n",
    "        plot.set_xlabel(' ')\n",
    "        plot.set_ylabel('Count')\n",
    "        plot.yaxis.label.set_rotation(90)\n",
    "        #plot.set_xticklabels(rotation=90)\n",
    "        loc, labels = plt.xticks()\n",
    "        plot.set_xticklabels(labels, rotation=90)\n",
    "\n",
    "    plt.draw()\n",
    "    \n",
    "def numeric_plot(data, numeric_attrs):\n",
    "    print(\"teeess\")\n",
    "    for attr_name in numeric_attrs:\n",
    "        # Create a figure with two subfigures that share an X axis\n",
    "        f, (ax_hist, ax_box) = plt.subplots(2, sharex=True, \n",
    "                                               gridspec_kw={\"height_ratios\": (.9, .1)})\n",
    "\n",
    "        attr_data = data[attr_name]\n",
    "        # Compute basic attribute summaries\n",
    "        mini = attr_data.min()\n",
    "        mean = attr_data.mean()\n",
    "        median = attr_data.median()\n",
    "        maxi = attr_data.max()\n",
    "        std_dev = attr_data.std()\n",
    "        missing_count = np.count_nonzero(attr_data.isnull().values)\n",
    "\n",
    "        # `dropna()` removes missing values from consideration\n",
    "        distplot = sns.distplot(data[attr_name].dropna(), kde=True, rug=False, axlabel=False, ax=ax_hist)\n",
    "\n",
    "        # - Put the attribute name and stats in the title\n",
    "        # - Keep only integer tics\n",
    "        distplot.set_title(attr_name + '\\n' + \n",
    "                       'Min: '         + str(round(mini,2))     + '   ' +\n",
    "                       'Avg: '         + str(round(mean, 2))    + '   ' +\n",
    "                       'Std.dev: '     + str(round(std_dev, 2)) + '   ' +\n",
    "                       'Median: '      + str(round(median,2))   + '   ' +\n",
    "                       'Max: '         + str(round(maxi,2))     + '   ' +\n",
    "                       'Missing: '     + str(missing_count))\n",
    "\n",
    "        distplot.xaxis.set_major_locator(MaxNLocator(integer=True))\n",
    "\n",
    "        boxplot = sns.boxplot(attr_data, ax=ax_box)\n",
    "        boxplot.set_xlabel(' ')"
   ]
  },
  {
   "cell_type": "code",
   "execution_count": 550,
   "metadata": {},
   "outputs": [
    {
     "name": "stdout",
     "output_type": "stream",
     "text": [
      "[[ 2 24  3]]\n"
     ]
    }
   ],
   "source": [
    "a = tf.constant(np.array([[1, 23, 3]]))\n",
    "b = tf.constant(np.array([[1, 1, 0]]))\n",
    "\n",
    "with tf.Session() as sess:\n",
    "    print(sess.run(tf.add(a,b)))"
   ]
  },
  {
   "cell_type": "code",
   "execution_count": null,
   "metadata": {},
   "outputs": [],
   "source": []
  }
 ],
 "metadata": {
  "kernelspec": {
   "display_name": "Python 3",
   "language": "python",
   "name": "python3"
  },
  "language_info": {
   "codemirror_mode": {
    "name": "ipython",
    "version": 3
   },
   "file_extension": ".py",
   "mimetype": "text/x-python",
   "name": "python",
   "nbconvert_exporter": "python",
   "pygments_lexer": "ipython3",
   "version": "3.6.5"
  }
 },
 "nbformat": 4,
 "nbformat_minor": 2
}
